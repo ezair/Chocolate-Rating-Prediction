{
  "nbformat": 4,
  "nbformat_minor": 0,
  "metadata": {
    "language_info": {
      "codemirror_mode": {
        "name": "ipython",
        "version": 3
      },
      "file_extension": ".py",
      "mimetype": "text/x-python",
      "name": "python",
      "nbconvert_exporter": "python",
      "pygments_lexer": "ipython3",
      "version": "3.8.6-final"
    },
    "orig_nbformat": 2,
    "kernelspec": {
      "name": "python3",
      "display_name": "Python 3.8.6 64-bit",
      "metadata": {
        "interpreter": {
          "hash": "1c98bae3b34254e00ad38852223e0db4369a8f45fc93c0ffced3852f66cb25c7"
        }
      }
    },
    "colab": {
      "name": "chocolate_predicting.ipynb",
      "provenance": [],
      "collapsed_sections": [
        "xlMsEEDgBS0x",
        "LVJVZ8n9BS0x",
        "fSZ-du3PBS0y",
        "GPLNexb0BS0z",
        "pt2-m1H6BS00",
        "LzaZnDjfBS00",
        "eGXVyN-gBS01",
        "mdF4YUfTBS03",
        "OK9LsEQlBS09",
        "vWSn8rUWBS0-"
      ]
    }
  },
  "cells": [
    {
      "cell_type": "markdown",
      "metadata": {
        "id": "Y1xWbOrcBS0m"
      },
      "source": [
        "# Goal\n",
        "\n",
        "We are going to train a ML model for predicting the rating of a chocolate bar given the data in our falvors_of_cacao.csv file."
      ]
    },
    {
      "cell_type": "markdown",
      "metadata": {
        "id": "_02_m4sCBS0r"
      },
      "source": [
        "## Let's Take a Look At Our Data"
      ]
    },
    {
      "cell_type": "code",
      "metadata": {
        "id": "_J6AZkmjBS0s"
      },
      "source": [
        "import numpy as np\n",
        "import pandas as pd\n",
        "import matplotlib.pyplot as plt"
      ],
      "execution_count": 275,
      "outputs": []
    },
    {
      "cell_type": "code",
      "metadata": {
        "id": "gYp8wM-oBS0s"
      },
      "source": [
        "data = pd.read_csv('flavors_of_cacao.csv')"
      ],
      "execution_count": 276,
      "outputs": []
    },
    {
      "cell_type": "code",
      "metadata": {
        "id": "YQD-WXNHBS0t",
        "colab": {
          "base_uri": "https://localhost:8080/",
          "height": 195
        },
        "outputId": "86162876-1fc2-484c-aa53-35ac15b90ef1"
      },
      "source": [
        "data.head()"
      ],
      "execution_count": 277,
      "outputs": [
        {
          "output_type": "execute_result",
          "data": {
            "text/html": [
              "<div>\n",
              "<style scoped>\n",
              "    .dataframe tbody tr th:only-of-type {\n",
              "        vertical-align: middle;\n",
              "    }\n",
              "\n",
              "    .dataframe tbody tr th {\n",
              "        vertical-align: top;\n",
              "    }\n",
              "\n",
              "    .dataframe thead th {\n",
              "        text-align: right;\n",
              "    }\n",
              "</style>\n",
              "<table border=\"1\" class=\"dataframe\">\n",
              "  <thead>\n",
              "    <tr style=\"text-align: right;\">\n",
              "      <th></th>\n",
              "      <th>Company Maker</th>\n",
              "      <th>Specific Bean Origin\\nOr Bar Name</th>\n",
              "      <th>REF</th>\n",
              "      <th>Review\\nDate</th>\n",
              "      <th>Cocoa\\nPercent</th>\n",
              "      <th>Company\\nLocation</th>\n",
              "      <th>Rating</th>\n",
              "      <th>Bean\\nType</th>\n",
              "      <th>Broad Bean\\nOrigin</th>\n",
              "    </tr>\n",
              "  </thead>\n",
              "  <tbody>\n",
              "    <tr>\n",
              "      <th>0</th>\n",
              "      <td>A. Morin</td>\n",
              "      <td>Agua Grande</td>\n",
              "      <td>1876</td>\n",
              "      <td>2016</td>\n",
              "      <td>63%</td>\n",
              "      <td>France</td>\n",
              "      <td>3.75</td>\n",
              "      <td></td>\n",
              "      <td>Sao Tome</td>\n",
              "    </tr>\n",
              "    <tr>\n",
              "      <th>1</th>\n",
              "      <td>A. Morin</td>\n",
              "      <td>Kpime</td>\n",
              "      <td>1676</td>\n",
              "      <td>2015</td>\n",
              "      <td>70%</td>\n",
              "      <td>France</td>\n",
              "      <td>2.75</td>\n",
              "      <td></td>\n",
              "      <td>Togo</td>\n",
              "    </tr>\n",
              "    <tr>\n",
              "      <th>2</th>\n",
              "      <td>A. Morin</td>\n",
              "      <td>Atsane</td>\n",
              "      <td>1676</td>\n",
              "      <td>2015</td>\n",
              "      <td>70%</td>\n",
              "      <td>France</td>\n",
              "      <td>3.00</td>\n",
              "      <td></td>\n",
              "      <td>Togo</td>\n",
              "    </tr>\n",
              "    <tr>\n",
              "      <th>3</th>\n",
              "      <td>A. Morin</td>\n",
              "      <td>Akata</td>\n",
              "      <td>1680</td>\n",
              "      <td>2015</td>\n",
              "      <td>70%</td>\n",
              "      <td>France</td>\n",
              "      <td>3.50</td>\n",
              "      <td></td>\n",
              "      <td>Togo</td>\n",
              "    </tr>\n",
              "    <tr>\n",
              "      <th>4</th>\n",
              "      <td>A. Morin</td>\n",
              "      <td>Quilla</td>\n",
              "      <td>1704</td>\n",
              "      <td>2015</td>\n",
              "      <td>70%</td>\n",
              "      <td>France</td>\n",
              "      <td>3.50</td>\n",
              "      <td></td>\n",
              "      <td>Peru</td>\n",
              "    </tr>\n",
              "  </tbody>\n",
              "</table>\n",
              "</div>"
            ],
            "text/plain": [
              "  Company Maker Specific Bean Origin\\nOr Bar Name  ...  Bean\\nType  Broad Bean\\nOrigin\n",
              "0      A. Morin                       Agua Grande  ...                        Sao Tome\n",
              "1      A. Morin                             Kpime  ...                            Togo\n",
              "2      A. Morin                            Atsane  ...                            Togo\n",
              "3      A. Morin                             Akata  ...                            Togo\n",
              "4      A. Morin                            Quilla  ...                            Peru\n",
              "\n",
              "[5 rows x 9 columns]"
            ]
          },
          "metadata": {
            "tags": []
          },
          "execution_count": 277
        }
      ]
    },
    {
      "cell_type": "code",
      "metadata": {
        "id": "gpEso03-BS0u",
        "colab": {
          "base_uri": "https://localhost:8080/"
        },
        "outputId": "5dcff72a-cdec-40d8-91aa-6a051422e521"
      },
      "source": [
        "for column in data.columns:\n",
        "    print(column + '\\n')"
      ],
      "execution_count": 278,
      "outputs": [
        {
          "output_type": "stream",
          "text": [
            "Company Maker\n",
            "\n",
            "Specific Bean Origin\n",
            "Or Bar Name\n",
            "\n",
            "REF\n",
            "\n",
            "Review\n",
            "Date\n",
            "\n",
            "Cocoa\n",
            "Percent\n",
            "\n",
            "Company\n",
            "Location\n",
            "\n",
            "Rating\n",
            "\n",
            "Bean\n",
            "Type\n",
            "\n",
            "Broad Bean\n",
            "Origin\n",
            "\n"
          ],
          "name": "stdout"
        }
      ]
    },
    {
      "cell_type": "code",
      "metadata": {
        "id": "Tmx2Bi86BS0u",
        "colab": {
          "base_uri": "https://localhost:8080/"
        },
        "outputId": "cb9bf0d8-c51e-4cda-f50c-4fe6bba94cf7"
      },
      "source": [
        "print(f'Number of records total in csv file: {len(data)}')"
      ],
      "execution_count": 279,
      "outputs": [
        {
          "output_type": "stream",
          "text": [
            "Number of records total in csv file: 1795\n"
          ],
          "name": "stdout"
        }
      ]
    },
    {
      "cell_type": "markdown",
      "metadata": {
        "id": "h1JLo0NtBS0u"
      },
      "source": [
        "### Target Vector\n",
        "\n",
        "Looking at the data, we will use the \"Rating\" column to be our target vector.\n",
        "\n",
        "However, before we do anything, we must clean our data and then transform it."
      ]
    },
    {
      "cell_type": "markdown",
      "metadata": {
        "id": "lg3EHL-jBS0v"
      },
      "source": [
        "## Data Cleaning"
      ]
    },
    {
      "cell_type": "markdown",
      "metadata": {
        "id": "1GCwTAIDBS0v"
      },
      "source": [
        "### Column Name\n",
        "\n",
        "First thing is first, notice that the names of most of our columns contain a \"\\n\" in them. We are going to need to change this, as it will later become a parsing issue.\n",
        "\n",
        "Generally we want to avoid any form of white space in the name of our columns.\n",
        "\n",
        "E.g. ThisIsAGoodFormatForColumnNames\n"
      ]
    },
    {
      "cell_type": "code",
      "metadata": {
        "id": "dw-22pNBBS0v",
        "colab": {
          "base_uri": "https://localhost:8080/"
        },
        "outputId": "9661ef31-0aea-4380-b255-b6b8e7589a89"
      },
      "source": [
        "data.columns = data.columns.str.replace('\\\\n', '')\n",
        "data.columns = data.columns.str.replace(' ', '')\n",
        "\n",
        "print(data.columns)"
      ],
      "execution_count": 280,
      "outputs": [
        {
          "output_type": "stream",
          "text": [
            "Index(['CompanyMaker', 'SpecificBeanOriginOrBarName', 'REF', 'ReviewDate',\n",
            "       'CocoaPercent', 'CompanyLocation', 'Rating', 'BeanType',\n",
            "       'BroadBeanOrigin'],\n",
            "      dtype='object')\n"
          ],
          "name": "stdout"
        }
      ]
    },
    {
      "cell_type": "markdown",
      "metadata": {
        "id": "JKXwdjjRBS0w"
      },
      "source": [
        "### Missing Values\n",
        "\n",
        "First thing's first, let's take a look at each column of data that we have and get the number of missing values for that  column"
      ]
    },
    {
      "cell_type": "code",
      "metadata": {
        "id": "ThYGVY6zBS0w",
        "colab": {
          "base_uri": "https://localhost:8080/"
        },
        "outputId": "d12b4829-0d2c-4218-e5d7-c877fa390cff"
      },
      "source": [
        "print(data.isnull().sum())"
      ],
      "execution_count": 281,
      "outputs": [
        {
          "output_type": "stream",
          "text": [
            "CompanyMaker                   0\n",
            "SpecificBeanOriginOrBarName    0\n",
            "REF                            0\n",
            "ReviewDate                     0\n",
            "CocoaPercent                   0\n",
            "CompanyLocation                0\n",
            "Rating                         0\n",
            "BeanType                       1\n",
            "BroadBeanOrigin                1\n",
            "dtype: int64\n"
          ],
          "name": "stdout"
        }
      ]
    },
    {
      "cell_type": "markdown",
      "metadata": {
        "id": "iwLcoZBfBS0w"
      },
      "source": [
        "It appears that barely any of the data is missing. I mean at the maximum amount, there is 1 record that is Nan, so we will just go ahead and remove every row that contains a nan."
      ]
    },
    {
      "cell_type": "code",
      "metadata": {
        "id": "q-H6mfpMBS0w",
        "colab": {
          "base_uri": "https://localhost:8080/"
        },
        "outputId": "9ec9f29d-154a-4bc3-e07d-9bbe1e6522c1"
      },
      "source": [
        "\n",
        "print(f'Total number of NA values: {data.isnull().sum().sum()}')\n",
        "print(f'Number of values before removing NA: {len(data)}')\n",
        "data = data.dropna(axis=0)\n",
        "data.reset_index(drop=True, inplace=True)\n",
        "print(f'Number of values after removing NA: {len(data)}')"
      ],
      "execution_count": 282,
      "outputs": [
        {
          "output_type": "stream",
          "text": [
            "Total number of NA values: 2\n",
            "Number of values before removing NA: 1795\n",
            "Number of values after removing NA: 1793\n"
          ],
          "name": "stdout"
        }
      ]
    },
    {
      "cell_type": "markdown",
      "metadata": {
        "id": "xlMsEEDgBS0x"
      },
      "source": [
        "### Let's take a look at each Columns min and max values (especially the integer fields)"
      ]
    },
    {
      "cell_type": "code",
      "metadata": {
        "id": "QKvqKZ0lBS0x",
        "colab": {
          "base_uri": "https://localhost:8080/"
        },
        "outputId": "f7594f39-f86d-41d8-b66e-8709e7de5eae"
      },
      "source": [
        "print(data.nsmallest(10, 'Rating')['Rating'])"
      ],
      "execution_count": 283,
      "outputs": [
        {
          "output_type": "stream",
          "text": [
            "326     1.0\n",
            "437     1.0\n",
            "465     1.0\n",
            "1174    1.0\n",
            "245     1.5\n",
            "249     1.5\n",
            "324     1.5\n",
            "449     1.5\n",
            "554     1.5\n",
            "988     1.5\n",
            "Name: Rating, dtype: float64\n"
          ],
          "name": "stdout"
        }
      ]
    },
    {
      "cell_type": "markdown",
      "metadata": {
        "id": "JkfOYnuzBS0x"
      },
      "source": [
        "This also looks good. If any reviews were less than 1, I would have removed them."
      ]
    },
    {
      "cell_type": "markdown",
      "metadata": {
        "id": "LVJVZ8n9BS0x"
      },
      "source": [
        "### Overall data set"
      ]
    },
    {
      "cell_type": "code",
      "metadata": {
        "id": "ZCgZAZtMBS0x",
        "colab": {
          "base_uri": "https://localhost:8080/"
        },
        "outputId": "f33d3e33-60d6-49a8-a067-73c50204fde6"
      },
      "source": [
        "print(\"Smallest values:\\n\")\n",
        "print(data.min())\n"
      ],
      "execution_count": 284,
      "outputs": [
        {
          "output_type": "stream",
          "text": [
            "Smallest values:\n",
            "\n",
            "CompanyMaker                                      A. Morin\n",
            "SpecificBeanOriginOrBarName    \"heirloom\", Arriba Nacional\n",
            "REF                                                      5\n",
            "ReviewDate                                            2006\n",
            "CocoaPercent                                          100%\n",
            "CompanyLocation                                  Amsterdam\n",
            "Rating                                                   1\n",
            "BeanType                                            Amazon\n",
            "BroadBeanOrigin                  Africa, Carribean, C. Am.\n",
            "dtype: object\n"
          ],
          "name": "stdout"
        }
      ]
    },
    {
      "cell_type": "code",
      "metadata": {
        "id": "OL9xJo8LBS0y",
        "colab": {
          "base_uri": "https://localhost:8080/"
        },
        "outputId": "9e3c3a46-daf0-4631-896a-f97c6b600a90"
      },
      "source": [
        "print(\"Largest values:\\n\")\n",
        "print(data.max())"
      ],
      "execution_count": 285,
      "outputs": [
        {
          "output_type": "stream",
          "text": [
            "Largest values:\n",
            "\n",
            "CompanyMaker                                     twenty-four blackbirds\n",
            "SpecificBeanOriginOrBarName    the lost city, gracias a dias, batch 362\n",
            "REF                                                                1952\n",
            "ReviewDate                                                         2017\n",
            "CocoaPercent                                                        99%\n",
            "CompanyLocation                                                   Wales\n",
            "Rating                                                                5\n",
            "BeanType                                                               \n",
            "BroadBeanOrigin                                                        \n",
            "dtype: object\n"
          ],
          "name": "stdout"
        }
      ]
    },
    {
      "cell_type": "markdown",
      "metadata": {
        "id": "fSZ-du3PBS0y"
      },
      "source": [
        "### Remove REF\n",
        "\n",
        "The REF field will not give us any information about the likeability of a chocolate bar, so we will remove it."
      ]
    },
    {
      "cell_type": "code",
      "metadata": {
        "id": "-ry_s9ruBS0y"
      },
      "source": [
        "data = data.drop(['REF'], axis=1)"
      ],
      "execution_count": 286,
      "outputs": []
    },
    {
      "cell_type": "code",
      "metadata": {
        "id": "KwguWSUaBS0y",
        "colab": {
          "base_uri": "https://localhost:8080/"
        },
        "outputId": "5e53677d-4874-4c36-a476-97fa61c93425"
      },
      "source": [
        "print(data.columns)"
      ],
      "execution_count": 287,
      "outputs": [
        {
          "output_type": "stream",
          "text": [
            "Index(['CompanyMaker', 'SpecificBeanOriginOrBarName', 'ReviewDate',\n",
            "       'CocoaPercent', 'CompanyLocation', 'Rating', 'BeanType',\n",
            "       'BroadBeanOrigin'],\n",
            "      dtype='object')\n"
          ],
          "name": "stdout"
        }
      ]
    },
    {
      "cell_type": "markdown",
      "metadata": {
        "id": "2s6BVjdTBS0y"
      },
      "source": [
        "## Data Transformation\n",
        "\n",
        "We need to take ever column of string data and convert each entry into integer form.\n",
        "\n",
        "This is required for running any machine learning algorithms on our data.\n"
      ]
    },
    {
      "cell_type": "code",
      "metadata": {
        "id": "oFf4whpqBS0z",
        "colab": {
          "base_uri": "https://localhost:8080/"
        },
        "outputId": "d6f8b45b-d9d9-4127-d5e1-a38536fbb28c"
      },
      "source": [
        "print(data.head(1))"
      ],
      "execution_count": 288,
      "outputs": [
        {
          "output_type": "stream",
          "text": [
            "  CompanyMaker SpecificBeanOriginOrBarName  ...  BeanType BroadBeanOrigin\n",
            "0     A. Morin                 Agua Grande  ...                  Sao Tome\n",
            "\n",
            "[1 rows x 8 columns]\n"
          ],
          "name": "stdout"
        }
      ]
    },
    {
      "cell_type": "markdown",
      "metadata": {
        "id": "YLUx-1O-BS0z"
      },
      "source": [
        "The fields that need to be converted to integer are everything except for \"Rating\", and \"Review Date\".\n",
        "\n",
        "We will also have to deal with CocoaPercent, but we will deal with this one differently."
      ]
    },
    {
      "cell_type": "markdown",
      "metadata": {
        "id": "GPLNexb0BS0z"
      },
      "source": [
        "### Let's deal with converting Cocoa Percent into a integer column\n",
        "\n",
        "First we will convert this field and store it off as its own data frame.\n",
        "\n",
        "Later we will combine this together with another dataframe to put everything back together but in integer form.\n"
      ]
    },
    {
      "cell_type": "code",
      "metadata": {
        "id": "3DxsKen1BS0z",
        "colab": {
          "base_uri": "https://localhost:8080/"
        },
        "outputId": "3846ce5d-a449-4002-a098-d11e0f963e9e"
      },
      "source": [
        "# This data is almost in correct integer form as it is.\n",
        "# All we need to do it cut off the % sign from each entry and convert that str to type float.\n",
        "cocoa_percent_dict = {'CocoaPercentage': [float(value.replace('%', '')) for value in data['CocoaPercent']]}\n",
        "\n",
        "# And boom, now we have a valid data frame.\n",
        "cocoa_percent_df = pd.DataFrame(cocoa_percent_dict)\n",
        "print(cocoa_percent_df.head())"
      ],
      "execution_count": 289,
      "outputs": [
        {
          "output_type": "stream",
          "text": [
            "   CocoaPercentage\n",
            "0             63.0\n",
            "1             70.0\n",
            "2             70.0\n",
            "3             70.0\n",
            "4             70.0\n"
          ],
          "name": "stdout"
        }
      ]
    },
    {
      "cell_type": "code",
      "metadata": {
        "id": "hRymNilNBS00",
        "colab": {
          "base_uri": "https://localhost:8080/"
        },
        "outputId": "39403116-f45f-4094-d597-183dc6224449"
      },
      "source": [
        "# Just for curiosity, I want to look at the max and min.\n",
        "print(f\"Min: {cocoa_percent_df.min()}\")\n",
        "print(f\"Max: {cocoa_percent_df.max()}\")"
      ],
      "execution_count": 290,
      "outputs": [
        {
          "output_type": "stream",
          "text": [
            "Min: CocoaPercentage    42.0\n",
            "dtype: float64\n",
            "Max: CocoaPercentage    100.0\n",
            "dtype: float64\n"
          ],
          "name": "stdout"
        }
      ]
    },
    {
      "cell_type": "markdown",
      "metadata": {
        "id": "pt2-m1H6BS00"
      },
      "source": [
        "#### Now it's time to deal with the all of the other string fields.\n",
        "\n",
        "Note: Unlike the \"Cocoa Percent\" field,  this these fields don't have a level of ordinal valuing. As in there is no order to this data, high values do not mean that the data is better or worse, it is simply a label. These fields are simply nominal.\n",
        "\n",
        "Since we are dealing with nomial data (and NOT ordinal), we are going to run One-Hot-Encoding on all nominal fields.\n",
        "\n",
        "Pro: Each category of data will not be taintedby calculations where one field has a large value then the other (like ordinal data).\n",
        "\n",
        "Con: Because of the way One-Hot-Encoding works, we will have an additional vector (column) for each version of the encoded data."
      ]
    },
    {
      "cell_type": "code",
      "metadata": {
        "id": "xJ1Lf9whBS00",
        "colab": {
          "base_uri": "https://localhost:8080/"
        },
        "outputId": "55c979ca-b38e-48b3-c209-1cd41181a549"
      },
      "source": [
        "print(\"Reminder of what columns we have:\\n\")\n",
        "for col in data.columns:\n",
        "    print(col)"
      ],
      "execution_count": 291,
      "outputs": [
        {
          "output_type": "stream",
          "text": [
            "Reminder of what columns we have:\n",
            "\n",
            "CompanyMaker\n",
            "SpecificBeanOriginOrBarName\n",
            "ReviewDate\n",
            "CocoaPercent\n",
            "CompanyLocation\n",
            "Rating\n",
            "BeanType\n",
            "BroadBeanOrigin\n"
          ],
          "name": "stdout"
        }
      ]
    },
    {
      "cell_type": "markdown",
      "metadata": {
        "id": "LzaZnDjfBS00"
      },
      "source": [
        "### We will create a new DataFrame that will hold everything in integer form\n",
        "\n",
        "This will be the new dataframe that we are going to insert all of our integer columns into, now that everything is going to be converted into integer form.\n",
        "\n",
        "We will take the columns from data that are already in the correct form. Then we will add the fields that are going to be properly encoded in later."
      ]
    },
    {
      "cell_type": "code",
      "metadata": {
        "id": "yq8PnEDCBS01",
        "colab": {
          "base_uri": "https://localhost:8080/"
        },
        "outputId": "6f986a1a-0165-4d4d-ced6-5b492d87dcf7"
      },
      "source": [
        "new_data = data[['Rating', 'ReviewDate']]\n",
        "\n",
        "# Let's add in the data frame that we had created for converting CocoaPercent into integer form.\n",
        "new_data = pd.concat([new_data, cocoa_percent_df], axis=1)\n",
        "\n",
        "print(new_data.columns)\n",
        "print(new_data.head())\n"
      ],
      "execution_count": 292,
      "outputs": [
        {
          "output_type": "stream",
          "text": [
            "Index(['Rating', 'ReviewDate', 'CocoaPercentage'], dtype='object')\n",
            "   Rating  ReviewDate  CocoaPercentage\n",
            "0    3.75        2016             63.0\n",
            "1    2.75        2015             70.0\n",
            "2    3.00        2015             70.0\n",
            "3    3.50        2015             70.0\n",
            "4    3.50        2015             70.0\n"
          ],
          "name": "stdout"
        }
      ]
    },
    {
      "cell_type": "markdown",
      "metadata": {
        "id": "eGXVyN-gBS01"
      },
      "source": [
        "### Created One-Hot-Encoded DataFrame\n",
        "\n",
        "We will take all of the nomial fields now and run one hot encoding on them to get them into integer form."
      ]
    },
    {
      "cell_type": "code",
      "metadata": {
        "id": "yyFbeFZjBS01",
        "colab": {
          "base_uri": "https://localhost:8080/"
        },
        "outputId": "128233ae-b362-4d54-9009-7ebbdbfd80ea"
      },
      "source": [
        "from sklearn.preprocessing import OneHotEncoder\n",
        "\n",
        "print(f'Nomial fields: {data.columns}\\n')\n",
        "\n",
        "# Are there any featires tjat we wannt to test out dropping\n",
        "# list_to_drop = ['BroadBeanOrigin', 'CompanyMaker', 'CompanyLocation', 'SpecificBeanOriginOrBarName']\n",
        "# data = data.drop(list_to_drop, axis=1)\n",
        "\n",
        "nomial_fields = [col for col in data.columns if col not in ['Rating', 'ReviewDate', 'CocoaPercent']]\n",
        "nomial_fields_df = data[nomial_fields]\n",
        "one_hot_encoded_df = pd.get_dummies(nomial_fields_df, drop_first=True)"
      ],
      "execution_count": 293,
      "outputs": [
        {
          "output_type": "stream",
          "text": [
            "Nomial fields: Index(['CompanyMaker', 'SpecificBeanOriginOrBarName', 'ReviewDate',\n",
            "       'CocoaPercent', 'CompanyLocation', 'Rating', 'BeanType',\n",
            "       'BroadBeanOrigin'],\n",
            "      dtype='object')\n",
            "\n"
          ],
          "name": "stdout"
        }
      ]
    },
    {
      "cell_type": "code",
      "metadata": {
        "id": "oascBXpJBS01",
        "colab": {
          "base_uri": "https://localhost:8080/"
        },
        "outputId": "8bff15dd-fdb1-4501-ffd9-ccb8facd2ec5"
      },
      "source": [
        "print(f\"Expected shape of OHE matrix: {data.shape}\")\n",
        "print(f\"Actual shape of OHE matrix: {one_hot_encoded_df.shape}\")"
      ],
      "execution_count": 294,
      "outputs": [
        {
          "output_type": "stream",
          "text": [
            "Expected shape of OHE matrix: (1793, 8)\n",
            "Actual shape of OHE matrix: (1793, 1649)\n"
          ],
          "name": "stdout"
        }
      ]
    },
    {
      "cell_type": "markdown",
      "metadata": {
        "id": "eQI_Set9BS02"
      },
      "source": [
        "Let's finish the construction of the \"new_data\" DataFrame that we were creating. Recall that this DataFrame will contain all of our one hot encoded fields and the other interger fields that we already have."
      ]
    },
    {
      "cell_type": "code",
      "metadata": {
        "id": "lHXf4-iVBS02",
        "colab": {
          "base_uri": "https://localhost:8080/"
        },
        "outputId": "cfe5fc3a-6238-422b-8d68-a43bf66bca68"
      },
      "source": [
        "new_data = pd.concat([new_data, one_hot_encoded_df], axis=1)\n",
        "print(new_data.head())"
      ],
      "execution_count": 295,
      "outputs": [
        {
          "output_type": "stream",
          "text": [
            "   Rating  ReviewDate  ...  BroadBeanOrigin_West Africa  BroadBeanOrigin_ \n",
            "0    3.75        2016  ...                            0                  0\n",
            "1    2.75        2015  ...                            0                  0\n",
            "2    3.00        2015  ...                            0                  0\n",
            "3    3.50        2015  ...                            0                  0\n",
            "4    3.50        2015  ...                            0                  0\n",
            "\n",
            "[5 rows x 1652 columns]\n"
          ],
          "name": "stdout"
        }
      ]
    },
    {
      "cell_type": "code",
      "metadata": {
        "id": "jCukuC5xBS03",
        "colab": {
          "base_uri": "https://localhost:8080/"
        },
        "outputId": "8026ca8b-9725-46b5-e7c5-d5f39fcd9160"
      },
      "source": [
        "print(new_data.shape)"
      ],
      "execution_count": 296,
      "outputs": [
        {
          "output_type": "stream",
          "text": [
            "(1793, 1652)\n"
          ],
          "name": "stdout"
        }
      ]
    },
    {
      "cell_type": "markdown",
      "metadata": {
        "id": "yHArruwQBS03"
      },
      "source": [
        "## Feature Reduction"
      ]
    },
    {
      "cell_type": "markdown",
      "metadata": {
        "id": "5PGilR8eBS03"
      },
      "source": [
        "Taking a look at the number of columns that we have, it is really easy to see that we have...a LOT more features then we started with.\n",
        "\n",
        "In fact, after running One Hot Encoding, we now have 1649 different columns that are just associated with the nomial fields that we had.\n",
        "\n",
        "This will definately impact the speed it takes to create our model, among other things.\n",
        "\n",
        "To combat this we will run feature reduction using the PCA algorthim. We will determine what features are useful and what features are not."
      ]
    },
    {
      "cell_type": "markdown",
      "metadata": {
        "id": "mdF4YUfTBS03"
      },
      "source": [
        "### Standardize our data\n",
        "\n",
        "Before we can run PCA on our data, we need to standardize it. All of our X data should be within 0 - 1 of itself. This will help to avoid (issues with gradient descent later) and is required for PCA. Data must be in the correct range, or the varience will not make any sense."
      ]
    },
    {
      "cell_type": "code",
      "metadata": {
        "tags": [],
        "id": "Z4ekJp-5BS03",
        "colab": {
          "base_uri": "https://localhost:8080/"
        },
        "outputId": "772e5c22-694c-490e-d9bf-23e5152833c3"
      },
      "source": [
        "from sklearn.preprocessing import StandardScaler\n",
        "scaler = StandardScaler()\n",
        "finalized_feature_matrix = pd.DataFrame(scaler.fit_transform(new_data))\n",
        "print(finalized_feature_matrix)"
      ],
      "execution_count": 297,
      "outputs": [
        {
          "output_type": "stream",
          "text": [
            "          0         1         2     ...      1649      1650      1651\n",
            "0     1.181356  1.254754 -1.375407  ... -0.147148 -0.057945 -0.206014\n",
            "1    -0.912734  0.913207 -0.268644  ... -0.147148 -0.057945 -0.206014\n",
            "2    -0.389211  0.913207 -0.268644  ... -0.147148 -0.057945 -0.206014\n",
            "3     0.657834  0.913207 -0.268644  ... -0.147148 -0.057945 -0.206014\n",
            "4     0.657834  0.913207 -0.268644  ... -0.147148 -0.057945 -0.206014\n",
            "...        ...       ...       ...  ...       ...       ...       ...\n",
            "1788  1.181356 -0.452984 -0.268644  ... -0.147148 -0.057945 -0.206014\n",
            "1789 -0.389211 -0.452984 -1.059189  ... -0.147148 -0.057945 -0.206014\n",
            "1790  0.657834 -0.452984 -1.059189  ... -0.147148 -0.057945 -0.206014\n",
            "1791  0.134311 -0.452984 -1.533516  ... -0.147148 -0.057945 -0.206014\n",
            "1792 -0.389211 -0.794532 -1.059189  ... -0.147148 -0.057945 -0.206014\n",
            "\n",
            "[1793 rows x 1652 columns]\n"
          ],
          "name": "stdout"
        }
      ]
    },
    {
      "cell_type": "markdown",
      "metadata": {
        "id": "2c8wP4ERBS04"
      },
      "source": [
        "By stanardizing our data using Sklearn, we have lost our data column names.\n",
        "\n",
        "We are going to need to add those back so we know what feature is what and such."
      ]
    },
    {
      "cell_type": "markdown",
      "metadata": {
        "id": "IVCPCxN6BS04"
      },
      "source": [
        "Since we are stanardazing our data, the mean should be close to 0.0 and the standard deviation should be about 1.0"
      ]
    },
    {
      "cell_type": "code",
      "metadata": {
        "id": "MoXYr5z0BS04",
        "colab": {
          "base_uri": "https://localhost:8080/"
        },
        "outputId": "55291aed-b7c9-4fd7-b541-d2d1ced15690"
      },
      "source": [
        "finalized_feature_matrix.columns = new_data.columns\n",
        "print(finalized_feature_matrix)"
      ],
      "execution_count": 298,
      "outputs": [
        {
          "output_type": "stream",
          "text": [
            "        Rating  ReviewDate  ...  BroadBeanOrigin_West Africa  BroadBeanOrigin_ \n",
            "0     1.181356    1.254754  ...                    -0.057945          -0.206014\n",
            "1    -0.912734    0.913207  ...                    -0.057945          -0.206014\n",
            "2    -0.389211    0.913207  ...                    -0.057945          -0.206014\n",
            "3     0.657834    0.913207  ...                    -0.057945          -0.206014\n",
            "4     0.657834    0.913207  ...                    -0.057945          -0.206014\n",
            "...        ...         ...  ...                          ...                ...\n",
            "1788  1.181356   -0.452984  ...                    -0.057945          -0.206014\n",
            "1789 -0.389211   -0.452984  ...                    -0.057945          -0.206014\n",
            "1790  0.657834   -0.452984  ...                    -0.057945          -0.206014\n",
            "1791  0.134311   -0.452984  ...                    -0.057945          -0.206014\n",
            "1792 -0.389211   -0.794532  ...                    -0.057945          -0.206014\n",
            "\n",
            "[1793 rows x 1652 columns]\n"
          ],
          "name": "stdout"
        }
      ]
    },
    {
      "cell_type": "markdown",
      "metadata": {
        "id": "dkdcQH3XBS04"
      },
      "source": [
        "Now let's take a look at our vairence and make sure that is actually makes sense."
      ]
    },
    {
      "cell_type": "code",
      "metadata": {
        "id": "6ZSqVtZlBS04",
        "colab": {
          "base_uri": "https://localhost:8080/"
        },
        "outputId": "6a149625-583f-45a9-b980-11ebcd8670ac"
      },
      "source": [
        "print(new_data.var())"
      ],
      "execution_count": 299,
      "outputs": [
        {
          "output_type": "stream",
          "text": [
            "Rating                                  0.228166\n",
            "ReviewDate                              8.577083\n",
            "CocoaPercentage                        40.024787\n",
            "CompanyMaker_AMMA                       0.002782\n",
            "CompanyMaker_Acalli                     0.001115\n",
            "                                         ...    \n",
            "BroadBeanOrigin_Venezuela, Trinidad     0.000558\n",
            "BroadBeanOrigin_Venezuela/ Ghana        0.000558\n",
            "BroadBeanOrigin_Vietnam                 0.020756\n",
            "BroadBeanOrigin_West Africa             0.003337\n",
            "BroadBeanOrigin_                        0.039078\n",
            "Length: 1652, dtype: float64\n"
          ],
          "name": "stdout"
        }
      ]
    },
    {
      "cell_type": "code",
      "metadata": {
        "id": "K7QniIpfBS05",
        "colab": {
          "base_uri": "https://localhost:8080/"
        },
        "outputId": "68aeb9c3-26a2-43dc-cbb2-039625d5ec72"
      },
      "source": [
        "# This is the part that we really care about...\n",
        "print(f\"Mean:\\n\\n{finalized_feature_matrix.mean()}\\n\")"
      ],
      "execution_count": 300,
      "outputs": [
        {
          "output_type": "stream",
          "text": [
            "Mean:\n",
            "\n",
            "Rating                                 2.018897e-16\n",
            "ReviewDate                            -2.683328e-14\n",
            "CocoaPercentage                       -1.313939e-16\n",
            "CompanyMaker_AMMA                     -1.286130e-15\n",
            "CompanyMaker_Acalli                    5.108311e-16\n",
            "                                           ...     \n",
            "BroadBeanOrigin_Venezuela, Trinidad   -8.072414e-17\n",
            "BroadBeanOrigin_Venezuela/ Ghana      -8.072801e-17\n",
            "BroadBeanOrigin_Vietnam               -3.973088e-16\n",
            "BroadBeanOrigin_West Africa           -4.139342e-17\n",
            "BroadBeanOrigin_                      -1.039944e-16\n",
            "Length: 1652, dtype: float64\n",
            "\n"
          ],
          "name": "stdout"
        }
      ]
    },
    {
      "cell_type": "code",
      "metadata": {
        "id": "KWs59Zo6BS05",
        "colab": {
          "base_uri": "https://localhost:8080/"
        },
        "outputId": "2017c890-7cc2-4faf-c22c-f2e6ced7dcb7"
      },
      "source": [
        "print(f\"Standard Deviation:\\n\\n{finalized_feature_matrix.std()}\")"
      ],
      "execution_count": 301,
      "outputs": [
        {
          "output_type": "stream",
          "text": [
            "Standard Deviation:\n",
            "\n",
            "Rating                                 1.000279\n",
            "ReviewDate                             1.000279\n",
            "CocoaPercentage                        1.000279\n",
            "CompanyMaker_AMMA                      1.000279\n",
            "CompanyMaker_Acalli                    1.000279\n",
            "                                         ...   \n",
            "BroadBeanOrigin_Venezuela, Trinidad    1.000279\n",
            "BroadBeanOrigin_Venezuela/ Ghana       1.000279\n",
            "BroadBeanOrigin_Vietnam                1.000279\n",
            "BroadBeanOrigin_West Africa            1.000279\n",
            "BroadBeanOrigin_                       1.000279\n",
            "Length: 1652, dtype: float64\n"
          ],
          "name": "stdout"
        }
      ]
    },
    {
      "cell_type": "markdown",
      "metadata": {
        "id": "nV5EvM80BS05"
      },
      "source": [
        "Excellent,out standard dev and mean look perfect, time to run PCA. PCA will tell us the weight of how important each individual feature is. We will receive a pca level of varience for each feature in order of most important to least imporant."
      ]
    },
    {
      "cell_type": "markdown",
      "metadata": {
        "id": "5ojb810fBS05"
      },
      "source": [
        ""
      ]
    },
    {
      "cell_type": "markdown",
      "metadata": {
        "id": "9-_jgCz2BS05"
      },
      "source": [
        "We will remove the \"Rating\" field from our feature matrix, as that is our target value and we do not want that being apart of our pca analysis. We will store our target vector off to the side while we run PCA. And create our X meature matrix officially."
      ]
    },
    {
      "cell_type": "code",
      "metadata": {
        "id": "byU3oxcIBS06",
        "colab": {
          "base_uri": "https://localhost:8080/"
        },
        "outputId": "6cb209d9-52b8-42f8-f820-2d792c3b69e6"
      },
      "source": [
        "# Recall that target vector is y.\n",
        "y = finalized_feature_matrix[['Rating']]\n",
        "print(y.head())"
      ],
      "execution_count": 302,
      "outputs": [
        {
          "output_type": "stream",
          "text": [
            "     Rating\n",
            "0  1.181356\n",
            "1 -0.912734\n",
            "2 -0.389211\n",
            "3  0.657834\n",
            "4  0.657834\n"
          ],
          "name": "stdout"
        }
      ]
    },
    {
      "cell_type": "code",
      "metadata": {
        "id": "wgwcQ4RWBS06",
        "colab": {
          "base_uri": "https://localhost:8080/"
        },
        "outputId": "13c18338-4630-4a41-a7af-c1374f7ca599"
      },
      "source": [
        "X = finalized_feature_matrix.drop(['Rating'], axis=1)\n",
        "print(X.head())"
      ],
      "execution_count": 303,
      "outputs": [
        {
          "output_type": "stream",
          "text": [
            "   ReviewDate  CocoaPercentage  ...  BroadBeanOrigin_West Africa  BroadBeanOrigin_ \n",
            "0    1.254754        -1.375407  ...                    -0.057945          -0.206014\n",
            "1    0.913207        -0.268644  ...                    -0.057945          -0.206014\n",
            "2    0.913207        -0.268644  ...                    -0.057945          -0.206014\n",
            "3    0.913207        -0.268644  ...                    -0.057945          -0.206014\n",
            "4    0.913207        -0.268644  ...                    -0.057945          -0.206014\n",
            "\n",
            "[5 rows x 1651 columns]\n"
          ],
          "name": "stdout"
        }
      ]
    },
    {
      "cell_type": "code",
      "metadata": {
        "tags": [],
        "id": "dHX2HwfMBS06",
        "colab": {
          "base_uri": "https://localhost:8080/"
        },
        "outputId": "b2085c75-eae6-480f-865d-ff2170743f42"
      },
      "source": [
        "from sklearn.decomposition import PCA\n",
        "pca = PCA()\n",
        "pca.fit(X)\n",
        "print(pca.explained_variance_ratio_)\n",
        "# print(pca.singular_values_)"
      ],
      "execution_count": 304,
      "outputs": [
        {
          "output_type": "stream",
          "text": [
            "[2.57840525e-03 2.47942508e-03 2.43544133e-03 ... 3.60182455e-35\n",
            " 3.59528193e-35 3.56732103e-35]\n"
          ],
          "name": "stdout"
        }
      ]
    },
    {
      "cell_type": "markdown",
      "metadata": {
        "id": "uDjLjd2GBS06"
      },
      "source": [
        "## Model 1\n",
        "\n",
        "I am going to attempt to train this data using a 75/25 train/test split with Linear Regression.\n",
        "\n",
        "However, based on the number of features we have and the small number of columns that we have, I expect this model to overfit a lot and give as really poor score. The number of features is actually extremely close to the number of rows that we have in our feature matrix, which is a bad sign right off the bat."
      ]
    },
    {
      "cell_type": "code",
      "metadata": {
        "id": "zW4NSlVFBS06",
        "colab": {
          "base_uri": "https://localhost:8080/"
        },
        "outputId": "66d9736e-5f7a-4bea-adc2-45e7f8b572f9"
      },
      "source": [
        "from sklearn.model_selection import train_test_split\n",
        "X_train, X_test, y_train, y_test = train_test_split(X, y, random_state=42, test_size=0.25)\n",
        "\n",
        "print(f\"X_train size: {len(X_train)}\")\n",
        "print(f\"X_test size: {len(X_test)}\\n\")\n",
        "\n",
        "print(f\"y_train size: {len(y_train)}\")\n",
        "print(f\"y_test size: {len(y_test)}\")\n"
      ],
      "execution_count": 305,
      "outputs": [
        {
          "output_type": "stream",
          "text": [
            "X_train size: 1344\n",
            "X_test size: 449\n",
            "\n",
            "y_train size: 1344\n",
            "y_test size: 449\n"
          ],
          "name": "stdout"
        }
      ]
    },
    {
      "cell_type": "markdown",
      "metadata": {
        "id": "FP3Kuud3BS07"
      },
      "source": [
        "### Linear Regression on training data"
      ]
    },
    {
      "cell_type": "code",
      "metadata": {
        "id": "zAwoapf_BS07",
        "colab": {
          "base_uri": "https://localhost:8080/"
        },
        "outputId": "e825a7f7-b08a-4fdd-f90b-a2cfd83dd075"
      },
      "source": [
        "\n",
        "from sklearn.linear_model import LinearRegression\n",
        "reg = LinearRegression()\n",
        "reg = reg.fit(X_train, y_train)\n",
        "print(f\"Linear Regression Training Score: {reg.score(X_train, y_train) * 100} percent\")"
      ],
      "execution_count": 306,
      "outputs": [
        {
          "output_type": "stream",
          "text": [
            "Linear Regression Training Score: 45.25835790215558 percent\n"
          ],
          "name": "stdout"
        }
      ]
    },
    {
      "cell_type": "markdown",
      "metadata": {
        "id": "fFza_seQBS07"
      },
      "source": [
        "### Linear Regression on testing data"
      ]
    },
    {
      "cell_type": "code",
      "metadata": {
        "id": "qtGGYdZoBS07",
        "colab": {
          "base_uri": "https://localhost:8080/"
        },
        "outputId": "e20e118d-f65b-49b6-ec5f-6e33463874fc"
      },
      "source": [
        "from sklearn.linear_model import LinearRegression\n",
        "reg.fit(X_test, y_test)\n",
        "print(f\"Linear Regression Testing Score: {reg.score(X_train, y_train) * 100} percent\")"
      ],
      "execution_count": 307,
      "outputs": [
        {
          "output_type": "stream",
          "text": [
            "Linear Regression Testing Score: -4.405710026125466e+29 percent\n"
          ],
          "name": "stdout"
        }
      ]
    },
    {
      "cell_type": "markdown",
      "metadata": {
        "id": "xAzpGq9bBS08"
      },
      "source": [
        "## Model 2\n",
        "\n",
        "As predicted, the linear regression model preformed horribly.\n",
        "\n",
        "Here is what we are going to do:\n",
        "\n",
        "1. Use cross validation for training/testing our model, as we do not have a lot of data and this will help to use everything that we have got  for training and for testing.\n",
        "\n",
        "2. We are going try out using Lasso Regression (regularization) because it appears that we are STRONGLY overfitting and it has to do with the fact that we have a huge amount of features. Lasso is actually really good at zeroing out features that are not of use to us. In this case that zeroing out of features will strongly increase our performance, so we will use this instead of Ridge.\n",
        "\n",
        "3. In order to find the best possible learning rate for our Lasso model, we will run GridSearch with a bunch of different possible learning rates. This will give us the best model with the best learning rate and show us the best score for that combonation."
      ]
    },
    {
      "cell_type": "markdown",
      "metadata": {
        "id": "Fp-PsWuFBS08"
      },
      "source": [
        "I am going to skip ahead and display the best model and tunning paramaters right now simply because GridSearch takes a while to run.\n",
        "The code for GridSearch and how I found the best model is at the bottom of the notebook."
      ]
    },
    {
      "cell_type": "code",
      "metadata": {
        "id": "MtnEWU9VBS08",
        "colab": {
          "base_uri": "https://localhost:8080/"
        },
        "outputId": "7574f1b0-013b-4089-cb8b-2c62055318aa"
      },
      "source": [
        "from sklearn.linear_model import LassoCV, Lasso\n",
        "from numpy import absolute, arange\n",
        "\n",
        "model = LassoCV(alphas=[0.02], cv=5, random_state=42, n_jobs=3).fit(X, y)\n",
        "print(f'Lasso Score: {absolute(model.score(X,  y) * 100)}')"
      ],
      "execution_count": 309,
      "outputs": [
        {
          "output_type": "stream",
          "text": [
            "/usr/local/lib/python3.6/dist-packages/sklearn/linear_model/_coordinate_descent.py:1088: DataConversionWarning: A column-vector y was passed when a 1d array was expected. Please change the shape of y to (n_samples, ), for example using ravel().\n",
            "  y = column_or_1d(y, warn=True)\n"
          ],
          "name": "stderr"
        },
        {
          "output_type": "stream",
          "text": [
            "Lasso Score: 53.877988092004806\n"
          ],
          "name": "stdout"
        }
      ]
    },
    {
      "cell_type": "code",
      "metadata": {
        "id": "QvRXjOtDBS08"
      },
      "source": [
        "from sklearn.linear_model import Lasso\n",
        "from sklearn.model_selection import RepeatedKFold, GridSearchCV\n",
        "from numpy import absolute, arange\n",
        "\n",
        "# Lasso Approach.\n",
        "# Note I am using lasso over ridge because I have a LOT of features and I actually want many of them to be zeroed out.\n",
        "# In addition to this, we will be running Cross Validation because we do not have a lot of training data to offer this model.\n",
        "lasso = Lasso()\n",
        "cv = RepeatedKFold(n_splits=10)\n",
        "grid = {'alpha': arange(0, 1, 0.01)}\n",
        "search = GridSearchCV(lasso, grid, scoring='neg_mean_absolute_error', cv=cv, n_jobs=3)\n",
        "results = search.fit(X, y)"
      ],
      "execution_count": 310,
      "outputs": []
    },
    {
      "cell_type": "code",
      "metadata": {
        "id": "23DuEkaVBS08"
      },
      "source": [
        "print(f'Best score: {absolute(results.best_score_) * 100}')\n",
        "print(f'Params: {results.best_params_}')"
      ],
      "execution_count": 311,
      "outputs": []
    },
    {
      "cell_type": "markdown",
      "metadata": {
        "id": "OK9LsEQlBS09"
      },
      "source": [
        "### Things to do\n",
        "\n",
        "1. Look more into the results we got from PCA and see if we can cut a bunch of features off. Because if we can, then linear regression or ridge might be useful.\n",
        "\n",
        "2. Look into GridSearchCV v.s. LassoCV"
      ]
    },
    {
      "cell_type": "markdown",
      "metadata": {
        "id": "cpU0cbqPBS09"
      },
      "source": [
        "## Model 3"
      ]
    },
    {
      "cell_type": "markdown",
      "metadata": {
        "id": "RLp8eGJgBS09"
      },
      "source": [
        "Let's take a moment to train and run our data on a Neural Network and see what our results look like. Neural Networks (in general) are better at fitting non-linear data. In other words, we can use a NN when running with a lot of features.\n",
        "\n",
        "This will actually be a good test here because we can run the NN with a logistic regression based activation function (Relu) and see if we are overfitting because we do not have enough data, or we are overfitting because there is too many features.\n",
        "\n",
        "If we are overfitting because of too little data, then in theory, our NN should also have issues getting a good overall score on our data.\n",
        "\n",
        "If we are not overfitting, then the number of training records we are feeding out network should be fine."
      ]
    },
    {
      "cell_type": "markdown",
      "metadata": {
        "id": "MfqwmRWUBS09"
      },
      "source": [
        "### Network Structure\n",
        "\n",
        "First let's create our the structure for our Neural Network.\n",
        "\n",
        "Since this data does not seem all that complex (to my knowledge), we will start with a simple structure. One hidden layer.\n",
        "\n",
        "Since we are simply making a single prediction, we will use one output node in our layer.\n",
        "\n",
        "We will use m nodes in our hidden layer, where m = (number of rows of data we have in our data frame).\n"
      ]
    },
    {
      "cell_type": "code",
      "metadata": {
        "id": "7TzOqWryEfe5"
      },
      "source": [
        "# These are what we will use for all of our different NNs for batch fitting.\r\n",
        "batch_size = 25\r\n",
        "epochs = 150"
      ],
      "execution_count": 312,
      "outputs": []
    },
    {
      "cell_type": "code",
      "metadata": {
        "id": "spVp3KdUBS09"
      },
      "source": [
        "import keras.backend as K\n",
        "from keras.models import Sequential\n",
        "from keras.layers import Dense\n",
        "from keras.wrappers.scikit_learn import KerasRegressor\n",
        "from keras.metrics import MeanAbsolutePercentageError\n",
        "from sklearn.model_selection import cross_val_score, KFold\n",
        "\n",
        "\n",
        "# Function for computing accuracy of our model.\n",
        "def soft_acc(y_true, y_pred):\n",
        "    return K.mean(K.equal(K.round(y_true), K.round(y_pred)))\n",
        "\n",
        "\n",
        "# Function that creates and returns our NN structure.\n",
        "def build_model():\n",
        "    # Train, test approach. (This should work worse than with cross validation, but I want to test it).\n",
        "    # We will make the input layer node count = number of features we have.\n",
        "    # We will make each layer have m number of nodes, where m is the number of rows in our dataframe.\n",
        "    # We will only have one output, since we are doing Regression prediction.\n",
        "    model = Sequential()\n",
        "    model.add(Dense(X.shape[0], input_dim=X.shape[1], activation='relu'))\n",
        "    model.add(Dense(1, activation='relu'))\n",
        "\n",
        "    # We will use mean squared error as our loss function, as we are basically running linear regression.\n",
        "    # We will use the optimizer function \"adam\". This is rather popular and is a good optimized verison of standard gradient descent.\n",
        "    model.compile(loss='mean_squared_error', optimizer='adam', metrics=[soft_acc])\n",
        "    return model"
      ],
      "execution_count": 313,
      "outputs": []
    },
    {
      "cell_type": "markdown",
      "metadata": {
        "id": "wJ9s7eKVBS09"
      },
      "source": [
        "### This is what our model looks like"
      ]
    },
    {
      "cell_type": "code",
      "metadata": {
        "id": "GRLzIwTmBS09",
        "colab": {
          "base_uri": "https://localhost:8080/"
        },
        "outputId": "af515028-ddce-417d-cc1e-55f304434db0"
      },
      "source": [
        "model = build_model()\n",
        "model.summary()\n",
        "\n",
        "print(X_train.shape)\n",
        "print(y_train.shape)"
      ],
      "execution_count": 314,
      "outputs": [
        {
          "output_type": "stream",
          "text": [
            "Model: \"sequential_68\"\n",
            "_________________________________________________________________\n",
            "Layer (type)                 Output Shape              Param #   \n",
            "=================================================================\n",
            "dense_130 (Dense)            (None, 1793)              2962036   \n",
            "_________________________________________________________________\n",
            "dense_131 (Dense)            (None, 1)                 1794      \n",
            "=================================================================\n",
            "Total params: 2,963,830\n",
            "Trainable params: 2,963,830\n",
            "Non-trainable params: 0\n",
            "_________________________________________________________________\n",
            "(1344, 1651)\n",
            "(1344, 1)\n"
          ],
          "name": "stdout"
        }
      ]
    },
    {
      "cell_type": "code",
      "metadata": {
        "tags": [],
        "id": "goNcRcvmBS0-",
        "colab": {
          "base_uri": "https://localhost:8080/"
        },
        "outputId": "a3708a31-9dce-49c1-ec2d-078f8f63bf25"
      },
      "source": [
        "# Train model on the training data...\n",
        "model.fit(X_train, y_train, epochs=epochs, batch_size=batch_size)"
      ],
      "execution_count": 315,
      "outputs": [
        {
          "output_type": "stream",
          "text": [
            "Epoch 1/150\n",
            "54/54 [==============================] - 1s 19ms/step - loss: 1.6084 - soft_acc: 0.3456\n",
            "Epoch 2/150\n",
            "54/54 [==============================] - 1s 18ms/step - loss: 1.0147 - soft_acc: 0.3505\n",
            "Epoch 3/150\n",
            "54/54 [==============================] - 1s 18ms/step - loss: 1.0147 - soft_acc: 0.3505\n",
            "Epoch 4/150\n",
            "54/54 [==============================] - 1s 19ms/step - loss: 1.0147 - soft_acc: 0.3501\n",
            "Epoch 5/150\n",
            "54/54 [==============================] - 1s 19ms/step - loss: 1.0147 - soft_acc: 0.3503\n",
            "Epoch 6/150\n",
            "54/54 [==============================] - 1s 19ms/step - loss: 1.0147 - soft_acc: 0.3501\n",
            "Epoch 7/150\n",
            "54/54 [==============================] - 1s 19ms/step - loss: 1.0147 - soft_acc: 0.3510\n",
            "Epoch 8/150\n",
            "54/54 [==============================] - 1s 18ms/step - loss: 1.0147 - soft_acc: 0.3496\n",
            "Epoch 9/150\n",
            "54/54 [==============================] - 1s 19ms/step - loss: 1.0147 - soft_acc: 0.3505\n",
            "Epoch 10/150\n",
            "54/54 [==============================] - 1s 18ms/step - loss: 1.0147 - soft_acc: 0.3501\n",
            "Epoch 11/150\n",
            "54/54 [==============================] - 1s 18ms/step - loss: 1.0147 - soft_acc: 0.3505\n",
            "Epoch 12/150\n",
            "54/54 [==============================] - 1s 18ms/step - loss: 1.0147 - soft_acc: 0.3505\n",
            "Epoch 13/150\n",
            "54/54 [==============================] - 1s 18ms/step - loss: 1.0147 - soft_acc: 0.3503\n",
            "Epoch 14/150\n",
            "54/54 [==============================] - 1s 18ms/step - loss: 1.0147 - soft_acc: 0.3505\n",
            "Epoch 15/150\n",
            "54/54 [==============================] - 1s 18ms/step - loss: 1.0147 - soft_acc: 0.3512\n",
            "Epoch 16/150\n",
            "54/54 [==============================] - 1s 18ms/step - loss: 1.0147 - soft_acc: 0.3503\n",
            "Epoch 17/150\n",
            "54/54 [==============================] - 1s 18ms/step - loss: 1.0147 - soft_acc: 0.3498\n",
            "Epoch 18/150\n",
            "54/54 [==============================] - 1s 18ms/step - loss: 1.0147 - soft_acc: 0.3508\n",
            "Epoch 19/150\n",
            "54/54 [==============================] - 1s 19ms/step - loss: 1.0147 - soft_acc: 0.3510\n",
            "Epoch 20/150\n",
            "54/54 [==============================] - 1s 18ms/step - loss: 1.0147 - soft_acc: 0.3505\n",
            "Epoch 21/150\n",
            "54/54 [==============================] - 1s 18ms/step - loss: 1.0147 - soft_acc: 0.3505\n",
            "Epoch 22/150\n",
            "54/54 [==============================] - 1s 18ms/step - loss: 1.0147 - soft_acc: 0.3508\n",
            "Epoch 23/150\n",
            "54/54 [==============================] - 1s 18ms/step - loss: 1.0147 - soft_acc: 0.3505\n",
            "Epoch 24/150\n",
            "54/54 [==============================] - 1s 18ms/step - loss: 1.0147 - soft_acc: 0.3510\n",
            "Epoch 25/150\n",
            "54/54 [==============================] - 1s 18ms/step - loss: 1.0147 - soft_acc: 0.3515\n",
            "Epoch 26/150\n",
            "54/54 [==============================] - 1s 18ms/step - loss: 1.0147 - soft_acc: 0.3503\n",
            "Epoch 27/150\n",
            "54/54 [==============================] - 1s 18ms/step - loss: 1.0147 - soft_acc: 0.3510\n",
            "Epoch 28/150\n",
            "54/54 [==============================] - 1s 18ms/step - loss: 1.0147 - soft_acc: 0.3501\n",
            "Epoch 29/150\n",
            "54/54 [==============================] - 1s 19ms/step - loss: 1.0147 - soft_acc: 0.3510\n",
            "Epoch 30/150\n",
            "54/54 [==============================] - 1s 18ms/step - loss: 1.0147 - soft_acc: 0.3503\n",
            "Epoch 31/150\n",
            "54/54 [==============================] - 1s 18ms/step - loss: 1.0147 - soft_acc: 0.3510\n",
            "Epoch 32/150\n",
            "54/54 [==============================] - 1s 18ms/step - loss: 1.0147 - soft_acc: 0.3503\n",
            "Epoch 33/150\n",
            "54/54 [==============================] - 1s 18ms/step - loss: 1.0147 - soft_acc: 0.3505\n",
            "Epoch 34/150\n",
            "54/54 [==============================] - 1s 18ms/step - loss: 1.0147 - soft_acc: 0.3512\n",
            "Epoch 35/150\n",
            "54/54 [==============================] - 1s 18ms/step - loss: 1.0147 - soft_acc: 0.3505\n",
            "Epoch 36/150\n",
            "54/54 [==============================] - 1s 18ms/step - loss: 1.0147 - soft_acc: 0.3503\n",
            "Epoch 37/150\n",
            "54/54 [==============================] - 1s 18ms/step - loss: 1.0147 - soft_acc: 0.3501\n",
            "Epoch 38/150\n",
            "54/54 [==============================] - 1s 19ms/step - loss: 1.0147 - soft_acc: 0.3503\n",
            "Epoch 39/150\n",
            "54/54 [==============================] - 1s 19ms/step - loss: 1.0147 - soft_acc: 0.3508\n",
            "Epoch 40/150\n",
            "54/54 [==============================] - 1s 18ms/step - loss: 1.0147 - soft_acc: 0.3498\n",
            "Epoch 41/150\n",
            "54/54 [==============================] - 1s 18ms/step - loss: 1.0147 - soft_acc: 0.3498\n",
            "Epoch 42/150\n",
            "54/54 [==============================] - 1s 18ms/step - loss: 1.0147 - soft_acc: 0.3501\n",
            "Epoch 43/150\n",
            "54/54 [==============================] - 1s 18ms/step - loss: 1.0147 - soft_acc: 0.3505\n",
            "Epoch 44/150\n",
            "54/54 [==============================] - 1s 18ms/step - loss: 1.0147 - soft_acc: 0.3496\n",
            "Epoch 45/150\n",
            "54/54 [==============================] - 1s 18ms/step - loss: 1.0147 - soft_acc: 0.3501\n",
            "Epoch 46/150\n",
            "54/54 [==============================] - 1s 18ms/step - loss: 1.0147 - soft_acc: 0.3501\n",
            "Epoch 47/150\n",
            "54/54 [==============================] - 1s 18ms/step - loss: 1.0147 - soft_acc: 0.3498\n",
            "Epoch 48/150\n",
            "54/54 [==============================] - 1s 18ms/step - loss: 1.0147 - soft_acc: 0.3510\n",
            "Epoch 49/150\n",
            "54/54 [==============================] - 1s 19ms/step - loss: 1.0147 - soft_acc: 0.3501\n",
            "Epoch 50/150\n",
            "54/54 [==============================] - 1s 18ms/step - loss: 1.0147 - soft_acc: 0.3496\n",
            "Epoch 51/150\n",
            "54/54 [==============================] - 1s 19ms/step - loss: 1.0147 - soft_acc: 0.3510\n",
            "Epoch 52/150\n",
            "54/54 [==============================] - 1s 18ms/step - loss: 1.0147 - soft_acc: 0.3505\n",
            "Epoch 53/150\n",
            "54/54 [==============================] - 1s 18ms/step - loss: 1.0147 - soft_acc: 0.3510\n",
            "Epoch 54/150\n",
            "54/54 [==============================] - 1s 18ms/step - loss: 1.0147 - soft_acc: 0.3501\n",
            "Epoch 55/150\n",
            "54/54 [==============================] - 1s 18ms/step - loss: 1.0147 - soft_acc: 0.3505\n",
            "Epoch 56/150\n",
            "54/54 [==============================] - 1s 19ms/step - loss: 1.0147 - soft_acc: 0.3508\n",
            "Epoch 57/150\n",
            "54/54 [==============================] - 1s 18ms/step - loss: 1.0147 - soft_acc: 0.3501\n",
            "Epoch 58/150\n",
            "54/54 [==============================] - 1s 18ms/step - loss: 1.0147 - soft_acc: 0.3505\n",
            "Epoch 59/150\n",
            "54/54 [==============================] - 1s 19ms/step - loss: 1.0147 - soft_acc: 0.3510\n",
            "Epoch 60/150\n",
            "54/54 [==============================] - 1s 18ms/step - loss: 1.0147 - soft_acc: 0.3510\n",
            "Epoch 61/150\n",
            "54/54 [==============================] - 1s 19ms/step - loss: 1.0147 - soft_acc: 0.3501\n",
            "Epoch 62/150\n",
            "54/54 [==============================] - 1s 18ms/step - loss: 1.0147 - soft_acc: 0.3503\n",
            "Epoch 63/150\n",
            "54/54 [==============================] - 1s 18ms/step - loss: 1.0147 - soft_acc: 0.3503\n",
            "Epoch 64/150\n",
            "54/54 [==============================] - 1s 19ms/step - loss: 1.0147 - soft_acc: 0.3510\n",
            "Epoch 65/150\n",
            "54/54 [==============================] - 1s 18ms/step - loss: 1.0147 - soft_acc: 0.3508\n",
            "Epoch 66/150\n",
            "54/54 [==============================] - 1s 18ms/step - loss: 1.0147 - soft_acc: 0.3498\n",
            "Epoch 67/150\n",
            "54/54 [==============================] - 1s 19ms/step - loss: 1.0147 - soft_acc: 0.3510\n",
            "Epoch 68/150\n",
            "54/54 [==============================] - 1s 19ms/step - loss: 1.0147 - soft_acc: 0.3510\n",
            "Epoch 69/150\n",
            "54/54 [==============================] - 1s 19ms/step - loss: 1.0147 - soft_acc: 0.3501\n",
            "Epoch 70/150\n",
            "54/54 [==============================] - 1s 18ms/step - loss: 1.0147 - soft_acc: 0.3494\n",
            "Epoch 71/150\n",
            "54/54 [==============================] - 1s 18ms/step - loss: 1.0147 - soft_acc: 0.3512\n",
            "Epoch 72/150\n",
            "54/54 [==============================] - 1s 19ms/step - loss: 1.0147 - soft_acc: 0.3503\n",
            "Epoch 73/150\n",
            "54/54 [==============================] - 1s 18ms/step - loss: 1.0147 - soft_acc: 0.3498\n",
            "Epoch 74/150\n",
            "54/54 [==============================] - 1s 18ms/step - loss: 1.0147 - soft_acc: 0.3508\n",
            "Epoch 75/150\n",
            "54/54 [==============================] - 1s 18ms/step - loss: 1.0147 - soft_acc: 0.3503\n",
            "Epoch 76/150\n",
            "54/54 [==============================] - 1s 18ms/step - loss: 1.0147 - soft_acc: 0.3496\n",
            "Epoch 77/150\n",
            "54/54 [==============================] - 1s 18ms/step - loss: 1.0147 - soft_acc: 0.3510\n",
            "Epoch 78/150\n",
            "54/54 [==============================] - 1s 19ms/step - loss: 1.0147 - soft_acc: 0.3503\n",
            "Epoch 79/150\n",
            "54/54 [==============================] - 1s 18ms/step - loss: 1.0147 - soft_acc: 0.3505\n",
            "Epoch 80/150\n",
            "54/54 [==============================] - 1s 18ms/step - loss: 1.0147 - soft_acc: 0.3503\n",
            "Epoch 81/150\n",
            "54/54 [==============================] - 1s 18ms/step - loss: 1.0147 - soft_acc: 0.3505\n",
            "Epoch 82/150\n",
            "54/54 [==============================] - 1s 18ms/step - loss: 1.0147 - soft_acc: 0.3503\n",
            "Epoch 83/150\n",
            "54/54 [==============================] - 1s 18ms/step - loss: 1.0147 - soft_acc: 0.3498\n",
            "Epoch 84/150\n",
            "54/54 [==============================] - 1s 18ms/step - loss: 1.0147 - soft_acc: 0.3498\n",
            "Epoch 85/150\n",
            "54/54 [==============================] - 1s 18ms/step - loss: 1.0147 - soft_acc: 0.3496\n",
            "Epoch 86/150\n",
            "54/54 [==============================] - 1s 18ms/step - loss: 1.0147 - soft_acc: 0.3505\n",
            "Epoch 87/150\n",
            "54/54 [==============================] - 1s 18ms/step - loss: 1.0147 - soft_acc: 0.3501\n",
            "Epoch 88/150\n",
            "54/54 [==============================] - 1s 18ms/step - loss: 1.0147 - soft_acc: 0.3505\n",
            "Epoch 89/150\n",
            "54/54 [==============================] - 1s 19ms/step - loss: 1.0147 - soft_acc: 0.3505\n",
            "Epoch 90/150\n",
            "54/54 [==============================] - 1s 18ms/step - loss: 1.0147 - soft_acc: 0.3510\n",
            "Epoch 91/150\n",
            "54/54 [==============================] - 1s 18ms/step - loss: 1.0147 - soft_acc: 0.3503\n",
            "Epoch 92/150\n",
            "54/54 [==============================] - 1s 19ms/step - loss: 1.0147 - soft_acc: 0.3508\n",
            "Epoch 93/150\n",
            "54/54 [==============================] - 1s 18ms/step - loss: 1.0147 - soft_acc: 0.3505\n",
            "Epoch 94/150\n",
            "54/54 [==============================] - 1s 19ms/step - loss: 1.0147 - soft_acc: 0.3503\n",
            "Epoch 95/150\n",
            "54/54 [==============================] - 1s 18ms/step - loss: 1.0147 - soft_acc: 0.3503\n",
            "Epoch 96/150\n",
            "54/54 [==============================] - 1s 19ms/step - loss: 1.0147 - soft_acc: 0.3515\n",
            "Epoch 97/150\n",
            "54/54 [==============================] - 1s 19ms/step - loss: 1.0147 - soft_acc: 0.3505\n",
            "Epoch 98/150\n",
            "54/54 [==============================] - 1s 18ms/step - loss: 1.0147 - soft_acc: 0.3501\n",
            "Epoch 99/150\n",
            "54/54 [==============================] - 1s 18ms/step - loss: 1.0147 - soft_acc: 0.3501\n",
            "Epoch 100/150\n",
            "54/54 [==============================] - 1s 18ms/step - loss: 1.0147 - soft_acc: 0.3503\n",
            "Epoch 101/150\n",
            "54/54 [==============================] - 1s 18ms/step - loss: 1.0147 - soft_acc: 0.3498\n",
            "Epoch 102/150\n",
            "54/54 [==============================] - 1s 18ms/step - loss: 1.0147 - soft_acc: 0.3494\n",
            "Epoch 103/150\n",
            "54/54 [==============================] - 1s 18ms/step - loss: 1.0147 - soft_acc: 0.3508\n",
            "Epoch 104/150\n",
            "54/54 [==============================] - 1s 18ms/step - loss: 1.0147 - soft_acc: 0.3503\n",
            "Epoch 105/150\n",
            "54/54 [==============================] - 1s 19ms/step - loss: 1.0147 - soft_acc: 0.3503\n",
            "Epoch 106/150\n",
            "54/54 [==============================] - 1s 18ms/step - loss: 1.0147 - soft_acc: 0.3503\n",
            "Epoch 107/150\n",
            "54/54 [==============================] - 1s 18ms/step - loss: 1.0147 - soft_acc: 0.3503\n",
            "Epoch 108/150\n",
            "54/54 [==============================] - 1s 19ms/step - loss: 1.0147 - soft_acc: 0.3510\n",
            "Epoch 109/150\n",
            "54/54 [==============================] - 1s 19ms/step - loss: 1.0147 - soft_acc: 0.3512\n",
            "Epoch 110/150\n",
            "54/54 [==============================] - 1s 18ms/step - loss: 1.0147 - soft_acc: 0.3505\n",
            "Epoch 111/150\n",
            "54/54 [==============================] - 1s 18ms/step - loss: 1.0147 - soft_acc: 0.3508\n",
            "Epoch 112/150\n",
            "54/54 [==============================] - 1s 18ms/step - loss: 1.0147 - soft_acc: 0.3515\n",
            "Epoch 113/150\n",
            "54/54 [==============================] - 1s 19ms/step - loss: 1.0147 - soft_acc: 0.3510\n",
            "Epoch 114/150\n",
            "54/54 [==============================] - 1s 19ms/step - loss: 1.0147 - soft_acc: 0.3510\n",
            "Epoch 115/150\n",
            "54/54 [==============================] - 1s 18ms/step - loss: 1.0147 - soft_acc: 0.3505\n",
            "Epoch 116/150\n",
            "54/54 [==============================] - 1s 19ms/step - loss: 1.0147 - soft_acc: 0.3505\n",
            "Epoch 117/150\n",
            "54/54 [==============================] - 1s 19ms/step - loss: 1.0147 - soft_acc: 0.3510\n",
            "Epoch 118/150\n",
            "54/54 [==============================] - 1s 19ms/step - loss: 1.0147 - soft_acc: 0.3496\n",
            "Epoch 119/150\n",
            "54/54 [==============================] - 1s 19ms/step - loss: 1.0147 - soft_acc: 0.3501\n",
            "Epoch 120/150\n",
            "54/54 [==============================] - 1s 19ms/step - loss: 1.0147 - soft_acc: 0.3503\n",
            "Epoch 121/150\n",
            "54/54 [==============================] - 1s 19ms/step - loss: 1.0147 - soft_acc: 0.3501\n",
            "Epoch 122/150\n",
            "54/54 [==============================] - 1s 18ms/step - loss: 1.0147 - soft_acc: 0.3501\n",
            "Epoch 123/150\n",
            "54/54 [==============================] - 1s 19ms/step - loss: 1.0147 - soft_acc: 0.3503\n",
            "Epoch 124/150\n",
            "54/54 [==============================] - 1s 19ms/step - loss: 1.0147 - soft_acc: 0.3510\n",
            "Epoch 125/150\n",
            "54/54 [==============================] - 1s 19ms/step - loss: 1.0147 - soft_acc: 0.3510\n",
            "Epoch 126/150\n",
            "54/54 [==============================] - 1s 19ms/step - loss: 1.0147 - soft_acc: 0.3503\n",
            "Epoch 127/150\n",
            "54/54 [==============================] - 1s 19ms/step - loss: 1.0147 - soft_acc: 0.3498\n",
            "Epoch 128/150\n",
            "54/54 [==============================] - 1s 19ms/step - loss: 1.0147 - soft_acc: 0.3498\n",
            "Epoch 129/150\n",
            "54/54 [==============================] - 1s 19ms/step - loss: 1.0147 - soft_acc: 0.3510\n",
            "Epoch 130/150\n",
            "54/54 [==============================] - 1s 19ms/step - loss: 1.0147 - soft_acc: 0.3498\n",
            "Epoch 131/150\n",
            "54/54 [==============================] - 1s 19ms/step - loss: 1.0147 - soft_acc: 0.3501\n",
            "Epoch 132/150\n",
            "54/54 [==============================] - 1s 19ms/step - loss: 1.0147 - soft_acc: 0.3505\n",
            "Epoch 133/150\n",
            "54/54 [==============================] - 1s 18ms/step - loss: 1.0147 - soft_acc: 0.3505\n",
            "Epoch 134/150\n",
            "54/54 [==============================] - 1s 19ms/step - loss: 1.0147 - soft_acc: 0.3508\n",
            "Epoch 135/150\n",
            "54/54 [==============================] - 1s 19ms/step - loss: 1.0147 - soft_acc: 0.3505\n",
            "Epoch 136/150\n",
            "54/54 [==============================] - 1s 18ms/step - loss: 1.0147 - soft_acc: 0.3505\n",
            "Epoch 137/150\n",
            "54/54 [==============================] - 1s 19ms/step - loss: 1.0147 - soft_acc: 0.3512\n",
            "Epoch 138/150\n",
            "54/54 [==============================] - 1s 19ms/step - loss: 1.0147 - soft_acc: 0.3501\n",
            "Epoch 139/150\n",
            "54/54 [==============================] - 1s 19ms/step - loss: 1.0147 - soft_acc: 0.3512\n",
            "Epoch 140/150\n",
            "54/54 [==============================] - 1s 19ms/step - loss: 1.0147 - soft_acc: 0.3503\n",
            "Epoch 141/150\n",
            "54/54 [==============================] - 1s 18ms/step - loss: 1.0147 - soft_acc: 0.3498\n",
            "Epoch 142/150\n",
            "54/54 [==============================] - 1s 19ms/step - loss: 1.0147 - soft_acc: 0.3510\n",
            "Epoch 143/150\n",
            "54/54 [==============================] - 1s 19ms/step - loss: 1.0147 - soft_acc: 0.3510\n",
            "Epoch 144/150\n",
            "54/54 [==============================] - 1s 18ms/step - loss: 1.0147 - soft_acc: 0.3515\n",
            "Epoch 145/150\n",
            "54/54 [==============================] - 1s 18ms/step - loss: 1.0147 - soft_acc: 0.3512\n",
            "Epoch 146/150\n",
            "54/54 [==============================] - 1s 19ms/step - loss: 1.0147 - soft_acc: 0.3505\n",
            "Epoch 147/150\n",
            "54/54 [==============================] - 1s 18ms/step - loss: 1.0147 - soft_acc: 0.3505\n",
            "Epoch 148/150\n",
            "54/54 [==============================] - 1s 19ms/step - loss: 1.0147 - soft_acc: 0.3508\n",
            "Epoch 149/150\n",
            "54/54 [==============================] - 1s 19ms/step - loss: 1.0147 - soft_acc: 0.3505\n",
            "Epoch 150/150\n",
            "54/54 [==============================] - 1s 19ms/step - loss: 1.0147 - soft_acc: 0.3498\n"
          ],
          "name": "stdout"
        },
        {
          "output_type": "execute_result",
          "data": {
            "text/plain": [
              "<tensorflow.python.keras.callbacks.History at 0x7fcdcfa5f240>"
            ]
          },
          "metadata": {
            "tags": []
          },
          "execution_count": 315
        }
      ]
    },
    {
      "cell_type": "code",
      "metadata": {
        "id": "jH1LwROoBS0-",
        "colab": {
          "base_uri": "https://localhost:8080/"
        },
        "outputId": "dd73f702-b8d3-4d6d-b0e1-a024f7b80966"
      },
      "source": [
        "# Let's see our accuracy on the training data...\n",
        "accuracy = model.evaluate(X_train, y_train)\n",
        "print(f'Accuracy Percentage: {100 * accuracy[1]}')"
      ],
      "execution_count": 332,
      "outputs": [
        {
          "output_type": "stream",
          "text": [
            "42/42 [==============================] - 0s 7ms/step - loss: 1.0147 - soft_acc: 0.3504\n",
            "Accuracy Percentage: 35.04464328289032\n"
          ],
          "name": "stdout"
        }
      ]
    },
    {
      "cell_type": "code",
      "metadata": {
        "id": "1JVba0r7BS0-",
        "colab": {
          "base_uri": "https://localhost:8080/"
        },
        "outputId": "d053b303-52b9-48e9-9eb5-4a0b75163151"
      },
      "source": [
        "# Let's see how well we do on testing data...\n",
        "loss, accuracy = model.evaluate(X_test, y_test)\n",
        "print(f'Accuracy Percentage: {100 * accuracy}')"
      ],
      "execution_count": 317,
      "outputs": [
        {
          "output_type": "stream",
          "text": [
            "15/15 [==============================] - 0s 8ms/step - loss: 0.9847 - soft_acc: 0.3604\n",
            "Accuracy Percentage: 36.04166805744171\n"
          ],
          "name": "stdout"
        }
      ]
    },
    {
      "cell_type": "markdown",
      "metadata": {
        "id": "vWSn8rUWBS0-"
      },
      "source": [
        "### Results\n",
        "\n",
        "It appears that our training accuracy is 81 percent and our testing accuracy is 79 percent. That is not at all bad. When we compare these scores to Linear regression or Lasso, they knock it right out of the park.\n",
        "\n",
        "This really shows us that a Neural Network can handle lots tons of features much better than that of Linear Regression or even tweaked Lasso Regression. We also get the added benefit of not even worrying about feature reduction."
      ]
    },
    {
      "cell_type": "markdown",
      "metadata": {
        "id": "8LUV0ZX8BS0-"
      },
      "source": [
        "## Model 4"
      ]
    },
    {
      "cell_type": "markdown",
      "metadata": {
        "id": "wZ0AeKwSBS0_"
      },
      "source": [
        "# **Let**'s try a NN with one hidden layer, but for the number of hidden nodes we will use (size(input layer) / 3 + size(output layer))"
      ]
    },
    {
      "cell_type": "code",
      "metadata": {
        "id": "5BEgoOAVBS0_"
      },
      "source": [
        "# Function that creates and returns our NN structure.\n",
        "def build_model_2():\n",
        "    # Let's try this rule of thumb.\n",
        "    num_of_hidden_neurons = round(X.shape[1] / 3) + 1\n",
        "    num_of_inputs = X.shape[0]\n",
        "    print(num_of_hidden_neurons)\n",
        "    print(num_of_inputs)\n",
        "\n",
        "    model = Sequential()\n",
        "    model.add(Dense(num_of_hidden_neurons, input_dim=X.shape[1], activation='relu'))\n",
        "    model.add(Dense(1, activation='relu'))\n",
        "    model.compile(loss='mean_squared_error', optimizer='adam', metrics=[soft_acc])\n",
        "    return model"
      ],
      "execution_count": 374,
      "outputs": []
    },
    {
      "cell_type": "code",
      "metadata": {
        "id": "Nl6wrShVBS0_",
        "colab": {
          "base_uri": "https://localhost:8080/"
        },
        "outputId": "884c717c-f5bf-4961-e7e9-32815a0cec13"
      },
      "source": [
        "model_2 = build_model_2()\n",
        "model_2.fit(X_train, y_train, epochs=epochs, batch_size=batch_size)"
      ],
      "execution_count": 319,
      "outputs": [
        {
          "output_type": "stream",
          "text": [
            "551\n",
            "1793\n",
            "Epoch 1/150\n",
            "54/54 [==============================] - 0s 7ms/step - loss: 4.2689 - soft_acc: 0.3211\n",
            "Epoch 2/150\n",
            "54/54 [==============================] - 0s 7ms/step - loss: 1.1478 - soft_acc: 0.3505\n",
            "Epoch 3/150\n",
            "54/54 [==============================] - 0s 7ms/step - loss: 1.0147 - soft_acc: 0.3510\n",
            "Epoch 4/150\n",
            "54/54 [==============================] - 0s 7ms/step - loss: 1.0147 - soft_acc: 0.3508\n",
            "Epoch 5/150\n",
            "54/54 [==============================] - 0s 7ms/step - loss: 1.0147 - soft_acc: 0.3501\n",
            "Epoch 6/150\n",
            "54/54 [==============================] - 0s 7ms/step - loss: 1.0147 - soft_acc: 0.3508\n",
            "Epoch 7/150\n",
            "54/54 [==============================] - 0s 7ms/step - loss: 1.0147 - soft_acc: 0.3510\n",
            "Epoch 8/150\n",
            "54/54 [==============================] - 0s 8ms/step - loss: 1.0147 - soft_acc: 0.3503\n",
            "Epoch 9/150\n",
            "54/54 [==============================] - 0s 7ms/step - loss: 1.0147 - soft_acc: 0.3491\n",
            "Epoch 10/150\n",
            "54/54 [==============================] - 0s 7ms/step - loss: 1.0147 - soft_acc: 0.3508\n",
            "Epoch 11/150\n",
            "54/54 [==============================] - 0s 7ms/step - loss: 1.0147 - soft_acc: 0.3501\n",
            "Epoch 12/150\n",
            "54/54 [==============================] - 0s 8ms/step - loss: 1.0147 - soft_acc: 0.3515\n",
            "Epoch 13/150\n",
            "54/54 [==============================] - 0s 7ms/step - loss: 1.0147 - soft_acc: 0.3508\n",
            "Epoch 14/150\n",
            "54/54 [==============================] - 0s 7ms/step - loss: 1.0147 - soft_acc: 0.3501\n",
            "Epoch 15/150\n",
            "54/54 [==============================] - 0s 7ms/step - loss: 1.0147 - soft_acc: 0.3505\n",
            "Epoch 16/150\n",
            "54/54 [==============================] - 0s 7ms/step - loss: 1.0147 - soft_acc: 0.3498\n",
            "Epoch 17/150\n",
            "54/54 [==============================] - 0s 7ms/step - loss: 1.0147 - soft_acc: 0.3508\n",
            "Epoch 18/150\n",
            "54/54 [==============================] - 0s 7ms/step - loss: 1.0147 - soft_acc: 0.3510\n",
            "Epoch 19/150\n",
            "54/54 [==============================] - 0s 7ms/step - loss: 1.0147 - soft_acc: 0.3510\n",
            "Epoch 20/150\n",
            "54/54 [==============================] - 0s 7ms/step - loss: 1.0147 - soft_acc: 0.3517\n",
            "Epoch 21/150\n",
            "54/54 [==============================] - 0s 7ms/step - loss: 1.0147 - soft_acc: 0.3503\n",
            "Epoch 22/150\n",
            "54/54 [==============================] - 0s 7ms/step - loss: 1.0147 - soft_acc: 0.3505\n",
            "Epoch 23/150\n",
            "54/54 [==============================] - 0s 7ms/step - loss: 1.0147 - soft_acc: 0.3498\n",
            "Epoch 24/150\n",
            "54/54 [==============================] - 0s 7ms/step - loss: 1.0147 - soft_acc: 0.3503\n",
            "Epoch 25/150\n",
            "54/54 [==============================] - 0s 7ms/step - loss: 1.0147 - soft_acc: 0.3501\n",
            "Epoch 26/150\n",
            "54/54 [==============================] - 0s 7ms/step - loss: 1.0147 - soft_acc: 0.3503\n",
            "Epoch 27/150\n",
            "54/54 [==============================] - 0s 7ms/step - loss: 1.0147 - soft_acc: 0.3508\n",
            "Epoch 28/150\n",
            "54/54 [==============================] - 0s 7ms/step - loss: 1.0147 - soft_acc: 0.3508\n",
            "Epoch 29/150\n",
            "54/54 [==============================] - 0s 7ms/step - loss: 1.0147 - soft_acc: 0.3501\n",
            "Epoch 30/150\n",
            "54/54 [==============================] - 0s 7ms/step - loss: 1.0147 - soft_acc: 0.3503\n",
            "Epoch 31/150\n",
            "54/54 [==============================] - 0s 7ms/step - loss: 1.0147 - soft_acc: 0.3505\n",
            "Epoch 32/150\n",
            "54/54 [==============================] - 0s 7ms/step - loss: 1.0147 - soft_acc: 0.3508\n",
            "Epoch 33/150\n",
            "54/54 [==============================] - 0s 7ms/step - loss: 1.0147 - soft_acc: 0.3498\n",
            "Epoch 34/150\n",
            "54/54 [==============================] - 0s 7ms/step - loss: 1.0147 - soft_acc: 0.3510\n",
            "Epoch 35/150\n",
            "54/54 [==============================] - 0s 7ms/step - loss: 1.0147 - soft_acc: 0.3501\n",
            "Epoch 36/150\n",
            "54/54 [==============================] - 0s 7ms/step - loss: 1.0147 - soft_acc: 0.3498\n",
            "Epoch 37/150\n",
            "54/54 [==============================] - 0s 7ms/step - loss: 1.0147 - soft_acc: 0.3505\n",
            "Epoch 38/150\n",
            "54/54 [==============================] - 0s 7ms/step - loss: 1.0147 - soft_acc: 0.3503\n",
            "Epoch 39/150\n",
            "54/54 [==============================] - 0s 7ms/step - loss: 1.0147 - soft_acc: 0.3505\n",
            "Epoch 40/150\n",
            "54/54 [==============================] - 0s 7ms/step - loss: 1.0147 - soft_acc: 0.3508\n",
            "Epoch 41/150\n",
            "54/54 [==============================] - 0s 7ms/step - loss: 1.0147 - soft_acc: 0.3505\n",
            "Epoch 42/150\n",
            "54/54 [==============================] - 0s 7ms/step - loss: 1.0147 - soft_acc: 0.3501\n",
            "Epoch 43/150\n",
            "54/54 [==============================] - 0s 7ms/step - loss: 1.0147 - soft_acc: 0.3501\n",
            "Epoch 44/150\n",
            "54/54 [==============================] - 0s 7ms/step - loss: 1.0147 - soft_acc: 0.3496\n",
            "Epoch 45/150\n",
            "54/54 [==============================] - 0s 7ms/step - loss: 1.0147 - soft_acc: 0.3503\n",
            "Epoch 46/150\n",
            "54/54 [==============================] - 0s 7ms/step - loss: 1.0147 - soft_acc: 0.3503\n",
            "Epoch 47/150\n",
            "54/54 [==============================] - 0s 7ms/step - loss: 1.0147 - soft_acc: 0.3501\n",
            "Epoch 48/150\n",
            "54/54 [==============================] - 0s 7ms/step - loss: 1.0147 - soft_acc: 0.3508\n",
            "Epoch 49/150\n",
            "54/54 [==============================] - 0s 7ms/step - loss: 1.0147 - soft_acc: 0.3505\n",
            "Epoch 50/150\n",
            "54/54 [==============================] - 0s 7ms/step - loss: 1.0147 - soft_acc: 0.3501\n",
            "Epoch 51/150\n",
            "54/54 [==============================] - 0s 7ms/step - loss: 1.0147 - soft_acc: 0.3503\n",
            "Epoch 52/150\n",
            "54/54 [==============================] - 0s 7ms/step - loss: 1.0147 - soft_acc: 0.3505\n",
            "Epoch 53/150\n",
            "54/54 [==============================] - 0s 7ms/step - loss: 1.0147 - soft_acc: 0.3505\n",
            "Epoch 54/150\n",
            "54/54 [==============================] - 0s 7ms/step - loss: 1.0147 - soft_acc: 0.3505\n",
            "Epoch 55/150\n",
            "54/54 [==============================] - 0s 7ms/step - loss: 1.0147 - soft_acc: 0.3510\n",
            "Epoch 56/150\n",
            "54/54 [==============================] - 0s 7ms/step - loss: 1.0147 - soft_acc: 0.3501\n",
            "Epoch 57/150\n",
            "54/54 [==============================] - 0s 7ms/step - loss: 1.0147 - soft_acc: 0.3501\n",
            "Epoch 58/150\n",
            "54/54 [==============================] - 0s 7ms/step - loss: 1.0147 - soft_acc: 0.3510\n",
            "Epoch 59/150\n",
            "54/54 [==============================] - 0s 7ms/step - loss: 1.0147 - soft_acc: 0.3496\n",
            "Epoch 60/150\n",
            "54/54 [==============================] - 0s 7ms/step - loss: 1.0147 - soft_acc: 0.3508\n",
            "Epoch 61/150\n",
            "54/54 [==============================] - 0s 7ms/step - loss: 1.0147 - soft_acc: 0.3512\n",
            "Epoch 62/150\n",
            "54/54 [==============================] - 0s 7ms/step - loss: 1.0147 - soft_acc: 0.3501\n",
            "Epoch 63/150\n",
            "54/54 [==============================] - 0s 7ms/step - loss: 1.0147 - soft_acc: 0.3503\n",
            "Epoch 64/150\n",
            "54/54 [==============================] - 0s 7ms/step - loss: 1.0147 - soft_acc: 0.3503\n",
            "Epoch 65/150\n",
            "54/54 [==============================] - 0s 7ms/step - loss: 1.0147 - soft_acc: 0.3512\n",
            "Epoch 66/150\n",
            "54/54 [==============================] - 0s 8ms/step - loss: 1.0147 - soft_acc: 0.3503\n",
            "Epoch 67/150\n",
            "54/54 [==============================] - 0s 7ms/step - loss: 1.0147 - soft_acc: 0.3510\n",
            "Epoch 68/150\n",
            "54/54 [==============================] - 0s 7ms/step - loss: 1.0147 - soft_acc: 0.3508\n",
            "Epoch 69/150\n",
            "54/54 [==============================] - 0s 7ms/step - loss: 1.0147 - soft_acc: 0.3505\n",
            "Epoch 70/150\n",
            "54/54 [==============================] - 0s 7ms/step - loss: 1.0147 - soft_acc: 0.3505\n",
            "Epoch 71/150\n",
            "54/54 [==============================] - 0s 7ms/step - loss: 1.0147 - soft_acc: 0.3503\n",
            "Epoch 72/150\n",
            "54/54 [==============================] - 0s 7ms/step - loss: 1.0147 - soft_acc: 0.3503\n",
            "Epoch 73/150\n",
            "54/54 [==============================] - 0s 7ms/step - loss: 1.0147 - soft_acc: 0.3510\n",
            "Epoch 74/150\n",
            "54/54 [==============================] - 0s 7ms/step - loss: 1.0147 - soft_acc: 0.3498\n",
            "Epoch 75/150\n",
            "54/54 [==============================] - 0s 7ms/step - loss: 1.0147 - soft_acc: 0.3496\n",
            "Epoch 76/150\n",
            "54/54 [==============================] - 0s 7ms/step - loss: 1.0147 - soft_acc: 0.3510\n",
            "Epoch 77/150\n",
            "54/54 [==============================] - 0s 7ms/step - loss: 1.0147 - soft_acc: 0.3508\n",
            "Epoch 78/150\n",
            "54/54 [==============================] - 0s 7ms/step - loss: 1.0147 - soft_acc: 0.3505\n",
            "Epoch 79/150\n",
            "54/54 [==============================] - 0s 7ms/step - loss: 1.0147 - soft_acc: 0.3503\n",
            "Epoch 80/150\n",
            "54/54 [==============================] - 0s 7ms/step - loss: 1.0147 - soft_acc: 0.3503\n",
            "Epoch 81/150\n",
            "54/54 [==============================] - 0s 7ms/step - loss: 1.0147 - soft_acc: 0.3501\n",
            "Epoch 82/150\n",
            "54/54 [==============================] - 0s 7ms/step - loss: 1.0147 - soft_acc: 0.3510\n",
            "Epoch 83/150\n",
            "54/54 [==============================] - 0s 8ms/step - loss: 1.0147 - soft_acc: 0.3501\n",
            "Epoch 84/150\n",
            "54/54 [==============================] - 0s 8ms/step - loss: 1.0147 - soft_acc: 0.3503\n",
            "Epoch 85/150\n",
            "54/54 [==============================] - 0s 7ms/step - loss: 1.0147 - soft_acc: 0.3501\n",
            "Epoch 86/150\n",
            "54/54 [==============================] - 0s 7ms/step - loss: 1.0147 - soft_acc: 0.3505\n",
            "Epoch 87/150\n",
            "54/54 [==============================] - 0s 8ms/step - loss: 1.0147 - soft_acc: 0.3505\n",
            "Epoch 88/150\n",
            "54/54 [==============================] - 0s 7ms/step - loss: 1.0147 - soft_acc: 0.3498\n",
            "Epoch 89/150\n",
            "54/54 [==============================] - 0s 8ms/step - loss: 1.0147 - soft_acc: 0.3517\n",
            "Epoch 90/150\n",
            "54/54 [==============================] - 0s 7ms/step - loss: 1.0147 - soft_acc: 0.3515\n",
            "Epoch 91/150\n",
            "54/54 [==============================] - 0s 8ms/step - loss: 1.0147 - soft_acc: 0.3498\n",
            "Epoch 92/150\n",
            "54/54 [==============================] - 0s 8ms/step - loss: 1.0147 - soft_acc: 0.3515\n",
            "Epoch 93/150\n",
            "54/54 [==============================] - 0s 7ms/step - loss: 1.0147 - soft_acc: 0.3508\n",
            "Epoch 94/150\n",
            "54/54 [==============================] - 0s 8ms/step - loss: 1.0147 - soft_acc: 0.3498\n",
            "Epoch 95/150\n",
            "54/54 [==============================] - 0s 7ms/step - loss: 1.0147 - soft_acc: 0.3505\n",
            "Epoch 96/150\n",
            "54/54 [==============================] - 0s 7ms/step - loss: 1.0147 - soft_acc: 0.3510\n",
            "Epoch 97/150\n",
            "54/54 [==============================] - 0s 7ms/step - loss: 1.0147 - soft_acc: 0.3498\n",
            "Epoch 98/150\n",
            "54/54 [==============================] - 0s 7ms/step - loss: 1.0147 - soft_acc: 0.3498\n",
            "Epoch 99/150\n",
            "54/54 [==============================] - 0s 8ms/step - loss: 1.0147 - soft_acc: 0.3508\n",
            "Epoch 100/150\n",
            "54/54 [==============================] - 0s 7ms/step - loss: 1.0147 - soft_acc: 0.3505\n",
            "Epoch 101/150\n",
            "54/54 [==============================] - 0s 8ms/step - loss: 1.0147 - soft_acc: 0.3510\n",
            "Epoch 102/150\n",
            "54/54 [==============================] - 0s 7ms/step - loss: 1.0147 - soft_acc: 0.3508\n",
            "Epoch 103/150\n",
            "54/54 [==============================] - 0s 8ms/step - loss: 1.0147 - soft_acc: 0.3505\n",
            "Epoch 104/150\n",
            "54/54 [==============================] - 0s 7ms/step - loss: 1.0147 - soft_acc: 0.3496\n",
            "Epoch 105/150\n",
            "54/54 [==============================] - 0s 7ms/step - loss: 1.0147 - soft_acc: 0.3512\n",
            "Epoch 106/150\n",
            "54/54 [==============================] - 0s 8ms/step - loss: 1.0147 - soft_acc: 0.3505\n",
            "Epoch 107/150\n",
            "54/54 [==============================] - 0s 7ms/step - loss: 1.0147 - soft_acc: 0.3501\n",
            "Epoch 108/150\n",
            "54/54 [==============================] - 0s 8ms/step - loss: 1.0147 - soft_acc: 0.3503\n",
            "Epoch 109/150\n",
            "54/54 [==============================] - 0s 8ms/step - loss: 1.0147 - soft_acc: 0.3505\n",
            "Epoch 110/150\n",
            "54/54 [==============================] - 0s 7ms/step - loss: 1.0147 - soft_acc: 0.3505\n",
            "Epoch 111/150\n",
            "54/54 [==============================] - 0s 8ms/step - loss: 1.0147 - soft_acc: 0.3503\n",
            "Epoch 112/150\n",
            "54/54 [==============================] - 0s 7ms/step - loss: 1.0147 - soft_acc: 0.3498\n",
            "Epoch 113/150\n",
            "54/54 [==============================] - 0s 8ms/step - loss: 1.0147 - soft_acc: 0.3510\n",
            "Epoch 114/150\n",
            "54/54 [==============================] - 0s 8ms/step - loss: 1.0147 - soft_acc: 0.3508\n",
            "Epoch 115/150\n",
            "54/54 [==============================] - 0s 7ms/step - loss: 1.0147 - soft_acc: 0.3503\n",
            "Epoch 116/150\n",
            "54/54 [==============================] - 0s 8ms/step - loss: 1.0147 - soft_acc: 0.3503\n",
            "Epoch 117/150\n",
            "54/54 [==============================] - 0s 7ms/step - loss: 1.0147 - soft_acc: 0.3503\n",
            "Epoch 118/150\n",
            "54/54 [==============================] - 0s 7ms/step - loss: 1.0147 - soft_acc: 0.3510\n",
            "Epoch 119/150\n",
            "54/54 [==============================] - 0s 7ms/step - loss: 1.0147 - soft_acc: 0.3510\n",
            "Epoch 120/150\n",
            "54/54 [==============================] - 0s 8ms/step - loss: 1.0147 - soft_acc: 0.3515\n",
            "Epoch 121/150\n",
            "54/54 [==============================] - 0s 7ms/step - loss: 1.0147 - soft_acc: 0.3508\n",
            "Epoch 122/150\n",
            "54/54 [==============================] - 0s 7ms/step - loss: 1.0147 - soft_acc: 0.3496\n",
            "Epoch 123/150\n",
            "54/54 [==============================] - 0s 7ms/step - loss: 1.0147 - soft_acc: 0.3503\n",
            "Epoch 124/150\n",
            "54/54 [==============================] - 0s 7ms/step - loss: 1.0147 - soft_acc: 0.3501\n",
            "Epoch 125/150\n",
            "54/54 [==============================] - 0s 7ms/step - loss: 1.0147 - soft_acc: 0.3498\n",
            "Epoch 126/150\n",
            "54/54 [==============================] - 0s 8ms/step - loss: 1.0147 - soft_acc: 0.3501\n",
            "Epoch 127/150\n",
            "54/54 [==============================] - 0s 7ms/step - loss: 1.0147 - soft_acc: 0.3494\n",
            "Epoch 128/150\n",
            "54/54 [==============================] - 0s 7ms/step - loss: 1.0147 - soft_acc: 0.3496\n",
            "Epoch 129/150\n",
            "54/54 [==============================] - 0s 7ms/step - loss: 1.0147 - soft_acc: 0.3503\n",
            "Epoch 130/150\n",
            "54/54 [==============================] - 0s 7ms/step - loss: 1.0147 - soft_acc: 0.3508\n",
            "Epoch 131/150\n",
            "54/54 [==============================] - 0s 8ms/step - loss: 1.0147 - soft_acc: 0.3501\n",
            "Epoch 132/150\n",
            "54/54 [==============================] - 0s 7ms/step - loss: 1.0147 - soft_acc: 0.3508\n",
            "Epoch 133/150\n",
            "54/54 [==============================] - 0s 8ms/step - loss: 1.0147 - soft_acc: 0.3515\n",
            "Epoch 134/150\n",
            "54/54 [==============================] - 0s 7ms/step - loss: 1.0147 - soft_acc: 0.3503\n",
            "Epoch 135/150\n",
            "54/54 [==============================] - 0s 8ms/step - loss: 1.0147 - soft_acc: 0.3510\n",
            "Epoch 136/150\n",
            "54/54 [==============================] - 0s 7ms/step - loss: 1.0147 - soft_acc: 0.3498\n",
            "Epoch 137/150\n",
            "54/54 [==============================] - 0s 8ms/step - loss: 1.0147 - soft_acc: 0.3505\n",
            "Epoch 138/150\n",
            "54/54 [==============================] - 0s 7ms/step - loss: 1.0147 - soft_acc: 0.3501\n",
            "Epoch 139/150\n",
            "54/54 [==============================] - 0s 8ms/step - loss: 1.0147 - soft_acc: 0.3510\n",
            "Epoch 140/150\n",
            "54/54 [==============================] - 0s 7ms/step - loss: 1.0147 - soft_acc: 0.3510\n",
            "Epoch 141/150\n",
            "54/54 [==============================] - 0s 7ms/step - loss: 1.0147 - soft_acc: 0.3503\n",
            "Epoch 142/150\n",
            "54/54 [==============================] - 0s 8ms/step - loss: 1.0147 - soft_acc: 0.3512\n",
            "Epoch 143/150\n",
            "54/54 [==============================] - 0s 8ms/step - loss: 1.0147 - soft_acc: 0.3508\n",
            "Epoch 144/150\n",
            "54/54 [==============================] - 0s 8ms/step - loss: 1.0147 - soft_acc: 0.3501\n",
            "Epoch 145/150\n",
            "54/54 [==============================] - 0s 7ms/step - loss: 1.0147 - soft_acc: 0.3503\n",
            "Epoch 146/150\n",
            "54/54 [==============================] - 0s 8ms/step - loss: 1.0147 - soft_acc: 0.3505\n",
            "Epoch 147/150\n",
            "54/54 [==============================] - 0s 7ms/step - loss: 1.0147 - soft_acc: 0.3491\n",
            "Epoch 148/150\n",
            "54/54 [==============================] - 0s 8ms/step - loss: 1.0147 - soft_acc: 0.3503\n",
            "Epoch 149/150\n",
            "54/54 [==============================] - 0s 8ms/step - loss: 1.0147 - soft_acc: 0.3501\n",
            "Epoch 150/150\n",
            "54/54 [==============================] - 0s 8ms/step - loss: 1.0147 - soft_acc: 0.3508\n"
          ],
          "name": "stdout"
        },
        {
          "output_type": "execute_result",
          "data": {
            "text/plain": [
              "<tensorflow.python.keras.callbacks.History at 0x7fcdcf8c3dd8>"
            ]
          },
          "metadata": {
            "tags": []
          },
          "execution_count": 319
        }
      ]
    },
    {
      "cell_type": "code",
      "metadata": {
        "id": "sAriSTyFBS0_",
        "colab": {
          "base_uri": "https://localhost:8080/"
        },
        "outputId": "031ebe82-b117-4419-a757-d9d5cff22f70"
      },
      "source": [
        "accuracy = model_2.evaluate(X_train, y_train)\r\n",
        "print(f'Accuracy for training (Percentage): {100 * accuracy[1]}')"
      ],
      "execution_count": 353,
      "outputs": [
        {
          "output_type": "stream",
          "text": [
            "42/42 [==============================] - 0s 4ms/step - loss: 1.0147 - soft_acc: 0.3504\n",
            "Accuracy for training (Percentage): 35.04464328289032\n"
          ],
          "name": "stdout"
        }
      ]
    },
    {
      "cell_type": "code",
      "metadata": {
        "colab": {
          "base_uri": "https://localhost:8080/"
        },
        "id": "kwML-Y73MAo-",
        "outputId": "76b33c69-a308-45c6-c6bb-7c66dce7054f"
      },
      "source": [
        "accuracy = model_2.evaluate(X_test, y_test)\r\n",
        "print(f'Accuracy for testing (percentage): {accuracy}')"
      ],
      "execution_count": 354,
      "outputs": [
        {
          "output_type": "stream",
          "text": [
            "15/15 [==============================] - 0s 4ms/step - loss: 2.7876 - soft_acc: 0.3458\n",
            "Accuracy for testing (percentage): [2.7875750064849854, 0.34583333134651184]\n"
          ],
          "name": "stdout"
        }
      ]
    },
    {
      "cell_type": "markdown",
      "metadata": {
        "id": "WKGHNImQVoSJ"
      },
      "source": [
        "It appears that our model is slightly better....\r\n",
        "Very sligthly..."
      ]
    },
    {
      "cell_type": "markdown",
      "metadata": {
        "id": "pE1LfimMVkRk"
      },
      "source": [
        "### Let's try the previous, but with 2 hidden layers\r\n",
        "\r\n"
      ]
    },
    {
      "cell_type": "code",
      "metadata": {
        "id": "-fY5XYCFVykv"
      },
      "source": [
        "# Function that creates and returns our NN structure.\r\n",
        "def build_model_3():\r\n",
        "    # Let's try this rule of thumb.\r\n",
        "    num_of_hidden_neurons = round(X.shape[1] / 3) + 1\r\n",
        "    num_of_inputs = X.shape[0]\r\n",
        "\r\n",
        "    model = Sequential()\r\n",
        "    model.add(Dense(num_of_hidden_neurons, input_dim=X.shape[1], activation='relu'))  \r\n",
        "    model.add(Dense(num_of_hidden_neurons, input_dim=X.shape[1], activation='relu'))\r\n",
        "    model.add(Dense(1, activation='relu'))\r\n",
        "    model.compile(loss='mean_squared_error', optimizer='adam', metrics=[soft_acc])\r\n",
        "    return model"
      ],
      "execution_count": 372,
      "outputs": []
    },
    {
      "cell_type": "code",
      "metadata": {
        "colab": {
          "base_uri": "https://localhost:8080/"
        },
        "id": "Kv0Ihyl5Xvgp",
        "outputId": "a5a76353-67b0-4076-de21-a144640ded25"
      },
      "source": [
        "model_2 = build_model_2()\r\n",
        "model_2.fit(X_train, y_train, epochs=epochs, batch_size=batch_size)"
      ],
      "execution_count": 373,
      "outputs": [
        {
          "output_type": "stream",
          "text": [
            "551\n",
            "1793\n",
            "Epoch 1/150\n",
            "54/54 [==============================] - 0s 7ms/step - loss: 87.3112 - soft_acc: 0.0926\n",
            "Epoch 2/150\n",
            "54/54 [==============================] - 0s 7ms/step - loss: 7.8157 - soft_acc: 0.1775\n",
            "Epoch 3/150\n",
            "54/54 [==============================] - 0s 8ms/step - loss: 1.5920 - soft_acc: 0.3772\n",
            "Epoch 4/150\n",
            "54/54 [==============================] - 0s 7ms/step - loss: 0.7333 - soft_acc: 0.5030\n",
            "Epoch 5/150\n",
            "54/54 [==============================] - 0s 7ms/step - loss: 0.5041 - soft_acc: 0.6063\n",
            "Epoch 6/150\n",
            "54/54 [==============================] - 0s 7ms/step - loss: 0.3859 - soft_acc: 0.6586\n",
            "Epoch 7/150\n",
            "54/54 [==============================] - 0s 8ms/step - loss: 0.3490 - soft_acc: 0.7041\n",
            "Epoch 8/150\n",
            "54/54 [==============================] - 0s 8ms/step - loss: 0.3392 - soft_acc: 0.7046\n",
            "Epoch 9/150\n",
            "54/54 [==============================] - 0s 7ms/step - loss: 0.3232 - soft_acc: 0.7161\n",
            "Epoch 10/150\n",
            "54/54 [==============================] - 0s 7ms/step - loss: 0.2978 - soft_acc: 0.7067\n",
            "Epoch 11/150\n",
            "54/54 [==============================] - 0s 7ms/step - loss: 0.2802 - soft_acc: 0.7208\n",
            "Epoch 12/150\n",
            "54/54 [==============================] - 0s 7ms/step - loss: 0.2618 - soft_acc: 0.7117\n",
            "Epoch 13/150\n",
            "54/54 [==============================] - 0s 7ms/step - loss: 0.2511 - soft_acc: 0.7134\n",
            "Epoch 14/150\n",
            "54/54 [==============================] - 0s 7ms/step - loss: 0.2672 - soft_acc: 0.7218\n",
            "Epoch 15/150\n",
            "54/54 [==============================] - 0s 7ms/step - loss: 0.2751 - soft_acc: 0.7065\n",
            "Epoch 16/150\n",
            "54/54 [==============================] - 0s 7ms/step - loss: 0.2781 - soft_acc: 0.6984\n",
            "Epoch 17/150\n",
            "54/54 [==============================] - 0s 7ms/step - loss: 0.2882 - soft_acc: 0.6858\n",
            "Epoch 18/150\n",
            "54/54 [==============================] - 0s 7ms/step - loss: 0.2689 - soft_acc: 0.6894\n",
            "Epoch 19/150\n",
            "54/54 [==============================] - 0s 7ms/step - loss: 0.2683 - soft_acc: 0.7087\n",
            "Epoch 20/150\n",
            "54/54 [==============================] - 0s 7ms/step - loss: 0.2444 - soft_acc: 0.7134\n",
            "Epoch 21/150\n",
            "54/54 [==============================] - 0s 7ms/step - loss: 0.2365 - soft_acc: 0.7209\n",
            "Epoch 22/150\n",
            "54/54 [==============================] - 0s 7ms/step - loss: 0.2186 - soft_acc: 0.7302\n",
            "Epoch 23/150\n",
            "54/54 [==============================] - 0s 7ms/step - loss: 0.2097 - soft_acc: 0.7465\n",
            "Epoch 24/150\n",
            "54/54 [==============================] - 0s 7ms/step - loss: 0.2059 - soft_acc: 0.7275\n",
            "Epoch 25/150\n",
            "54/54 [==============================] - 0s 7ms/step - loss: 0.1967 - soft_acc: 0.7561\n",
            "Epoch 26/150\n",
            "54/54 [==============================] - 0s 7ms/step - loss: 0.1865 - soft_acc: 0.7633\n",
            "Epoch 27/150\n",
            "54/54 [==============================] - 0s 7ms/step - loss: 0.1821 - soft_acc: 0.7815\n",
            "Epoch 28/150\n",
            "54/54 [==============================] - 0s 7ms/step - loss: 0.1724 - soft_acc: 0.7734\n",
            "Epoch 29/150\n",
            "54/54 [==============================] - 0s 7ms/step - loss: 0.1737 - soft_acc: 0.7679\n",
            "Epoch 30/150\n",
            "54/54 [==============================] - 0s 7ms/step - loss: 0.1768 - soft_acc: 0.7734\n",
            "Epoch 31/150\n",
            "54/54 [==============================] - 0s 7ms/step - loss: 0.1729 - soft_acc: 0.7707\n",
            "Epoch 32/150\n",
            "54/54 [==============================] - 0s 7ms/step - loss: 0.1729 - soft_acc: 0.7694\n",
            "Epoch 33/150\n",
            "54/54 [==============================] - 0s 7ms/step - loss: 0.1721 - soft_acc: 0.7756\n",
            "Epoch 34/150\n",
            "54/54 [==============================] - 0s 7ms/step - loss: 0.1744 - soft_acc: 0.7657\n",
            "Epoch 35/150\n",
            "54/54 [==============================] - 0s 7ms/step - loss: 0.1757 - soft_acc: 0.7721\n",
            "Epoch 36/150\n",
            "54/54 [==============================] - 0s 7ms/step - loss: 0.1691 - soft_acc: 0.7706\n",
            "Epoch 37/150\n",
            "54/54 [==============================] - 0s 7ms/step - loss: 0.1758 - soft_acc: 0.7611\n",
            "Epoch 38/150\n",
            "54/54 [==============================] - 0s 7ms/step - loss: 0.1782 - soft_acc: 0.7761\n",
            "Epoch 39/150\n",
            "54/54 [==============================] - 0s 7ms/step - loss: 0.1688 - soft_acc: 0.7650\n",
            "Epoch 40/150\n",
            "54/54 [==============================] - 0s 7ms/step - loss: 0.1684 - soft_acc: 0.7625\n",
            "Epoch 41/150\n",
            "54/54 [==============================] - 0s 7ms/step - loss: 0.1672 - soft_acc: 0.7850\n",
            "Epoch 42/150\n",
            "54/54 [==============================] - 0s 7ms/step - loss: 0.1676 - soft_acc: 0.7675\n",
            "Epoch 43/150\n",
            "54/54 [==============================] - 0s 7ms/step - loss: 0.1704 - soft_acc: 0.7776\n",
            "Epoch 44/150\n",
            "54/54 [==============================] - 0s 7ms/step - loss: 0.1641 - soft_acc: 0.7616\n",
            "Epoch 45/150\n",
            "54/54 [==============================] - 0s 7ms/step - loss: 0.1636 - soft_acc: 0.7749\n",
            "Epoch 46/150\n",
            "54/54 [==============================] - 0s 7ms/step - loss: 0.1636 - soft_acc: 0.7766\n",
            "Epoch 47/150\n",
            "54/54 [==============================] - 0s 7ms/step - loss: 0.1601 - soft_acc: 0.7786\n",
            "Epoch 48/150\n",
            "54/54 [==============================] - 0s 7ms/step - loss: 0.1582 - soft_acc: 0.7848\n",
            "Epoch 49/150\n",
            "54/54 [==============================] - 0s 7ms/step - loss: 0.1599 - soft_acc: 0.7805\n",
            "Epoch 50/150\n",
            "54/54 [==============================] - 0s 7ms/step - loss: 0.1611 - soft_acc: 0.7746\n",
            "Epoch 51/150\n",
            "54/54 [==============================] - 0s 7ms/step - loss: 0.1591 - soft_acc: 0.7752\n",
            "Epoch 52/150\n",
            "54/54 [==============================] - 0s 7ms/step - loss: 0.1585 - soft_acc: 0.7645\n",
            "Epoch 53/150\n",
            "54/54 [==============================] - 0s 7ms/step - loss: 0.1573 - soft_acc: 0.7825\n",
            "Epoch 54/150\n",
            "54/54 [==============================] - 0s 7ms/step - loss: 0.1598 - soft_acc: 0.7692\n",
            "Epoch 55/150\n",
            "54/54 [==============================] - 0s 7ms/step - loss: 0.1586 - soft_acc: 0.7761\n",
            "Epoch 56/150\n",
            "54/54 [==============================] - 0s 7ms/step - loss: 0.1593 - soft_acc: 0.7795\n",
            "Epoch 57/150\n",
            "54/54 [==============================] - 0s 7ms/step - loss: 0.1575 - soft_acc: 0.7756\n",
            "Epoch 58/150\n",
            "54/54 [==============================] - 0s 7ms/step - loss: 0.1557 - soft_acc: 0.7801\n",
            "Epoch 59/150\n",
            "54/54 [==============================] - 0s 7ms/step - loss: 0.1529 - soft_acc: 0.7848\n",
            "Epoch 60/150\n",
            "54/54 [==============================] - 0s 7ms/step - loss: 0.1574 - soft_acc: 0.7712\n",
            "Epoch 61/150\n",
            "54/54 [==============================] - 0s 7ms/step - loss: 0.1592 - soft_acc: 0.7786\n",
            "Epoch 62/150\n",
            "54/54 [==============================] - 0s 7ms/step - loss: 0.1571 - soft_acc: 0.7791\n",
            "Epoch 63/150\n",
            "54/54 [==============================] - 0s 7ms/step - loss: 0.1558 - soft_acc: 0.7773\n",
            "Epoch 64/150\n",
            "54/54 [==============================] - 0s 7ms/step - loss: 0.1605 - soft_acc: 0.7645\n",
            "Epoch 65/150\n",
            "54/54 [==============================] - 0s 7ms/step - loss: 0.1569 - soft_acc: 0.7744\n",
            "Epoch 66/150\n",
            "54/54 [==============================] - 0s 7ms/step - loss: 0.1536 - soft_acc: 0.7848\n",
            "Epoch 67/150\n",
            "54/54 [==============================] - 0s 7ms/step - loss: 0.1576 - soft_acc: 0.7853\n",
            "Epoch 68/150\n",
            "54/54 [==============================] - 0s 7ms/step - loss: 0.1590 - soft_acc: 0.7515\n",
            "Epoch 69/150\n",
            "54/54 [==============================] - 0s 7ms/step - loss: 0.1646 - soft_acc: 0.7630\n",
            "Epoch 70/150\n",
            "54/54 [==============================] - 0s 7ms/step - loss: 0.1723 - soft_acc: 0.7489\n",
            "Epoch 71/150\n",
            "54/54 [==============================] - 0s 7ms/step - loss: 0.1669 - soft_acc: 0.7571\n",
            "Epoch 72/150\n",
            "54/54 [==============================] - 0s 7ms/step - loss: 0.1553 - soft_acc: 0.7642\n",
            "Epoch 73/150\n",
            "54/54 [==============================] - 0s 7ms/step - loss: 0.1538 - soft_acc: 0.7586\n",
            "Epoch 74/150\n",
            "54/54 [==============================] - 0s 7ms/step - loss: 0.1540 - soft_acc: 0.7786\n",
            "Epoch 75/150\n",
            "54/54 [==============================] - 0s 7ms/step - loss: 0.1537 - soft_acc: 0.7682\n",
            "Epoch 76/150\n",
            "54/54 [==============================] - 0s 7ms/step - loss: 0.1543 - soft_acc: 0.7909\n",
            "Epoch 77/150\n",
            "54/54 [==============================] - 0s 7ms/step - loss: 0.1586 - soft_acc: 0.7490\n",
            "Epoch 78/150\n",
            "54/54 [==============================] - 0s 7ms/step - loss: 0.1586 - soft_acc: 0.7729\n",
            "Epoch 79/150\n",
            "54/54 [==============================] - 0s 7ms/step - loss: 0.1536 - soft_acc: 0.7571\n",
            "Epoch 80/150\n",
            "54/54 [==============================] - 0s 7ms/step - loss: 0.1530 - soft_acc: 0.7917\n",
            "Epoch 81/150\n",
            "54/54 [==============================] - 0s 7ms/step - loss: 0.1531 - soft_acc: 0.7721\n",
            "Epoch 82/150\n",
            "54/54 [==============================] - 0s 7ms/step - loss: 0.1586 - soft_acc: 0.7501\n",
            "Epoch 83/150\n",
            "54/54 [==============================] - 0s 7ms/step - loss: 0.1558 - soft_acc: 0.7736\n",
            "Epoch 84/150\n",
            "54/54 [==============================] - 0s 7ms/step - loss: 0.1554 - soft_acc: 0.7655\n",
            "Epoch 85/150\n",
            "54/54 [==============================] - 0s 7ms/step - loss: 0.1569 - soft_acc: 0.7761\n",
            "Epoch 86/150\n",
            "54/54 [==============================] - 0s 7ms/step - loss: 0.1557 - soft_acc: 0.7660\n",
            "Epoch 87/150\n",
            "54/54 [==============================] - 0s 7ms/step - loss: 0.1560 - soft_acc: 0.7746\n",
            "Epoch 88/150\n",
            "54/54 [==============================] - 0s 7ms/step - loss: 0.1603 - soft_acc: 0.7618\n",
            "Epoch 89/150\n",
            "54/54 [==============================] - 0s 7ms/step - loss: 0.1586 - soft_acc: 0.7575\n",
            "Epoch 90/150\n",
            "54/54 [==============================] - 0s 7ms/step - loss: 0.1582 - soft_acc: 0.7510\n",
            "Epoch 91/150\n",
            "54/54 [==============================] - 0s 7ms/step - loss: 0.1629 - soft_acc: 0.7667\n",
            "Epoch 92/150\n",
            "54/54 [==============================] - 0s 7ms/step - loss: 0.1616 - soft_acc: 0.7566\n",
            "Epoch 93/150\n",
            "54/54 [==============================] - 0s 7ms/step - loss: 0.1614 - soft_acc: 0.7376\n",
            "Epoch 94/150\n",
            "54/54 [==============================] - 0s 7ms/step - loss: 0.1665 - soft_acc: 0.7618\n",
            "Epoch 95/150\n",
            "54/54 [==============================] - 0s 7ms/step - loss: 0.1647 - soft_acc: 0.7527\n",
            "Epoch 96/150\n",
            "54/54 [==============================] - 0s 7ms/step - loss: 0.1598 - soft_acc: 0.7601\n",
            "Epoch 97/150\n",
            "54/54 [==============================] - 0s 7ms/step - loss: 0.1573 - soft_acc: 0.7591\n",
            "Epoch 98/150\n",
            "54/54 [==============================] - 0s 7ms/step - loss: 0.1608 - soft_acc: 0.7536\n",
            "Epoch 99/150\n",
            "54/54 [==============================] - 0s 7ms/step - loss: 0.1646 - soft_acc: 0.7339\n",
            "Epoch 100/150\n",
            "54/54 [==============================] - 0s 7ms/step - loss: 0.1627 - soft_acc: 0.7529\n",
            "Epoch 101/150\n",
            "54/54 [==============================] - 0s 7ms/step - loss: 0.1626 - soft_acc: 0.7398\n",
            "Epoch 102/150\n",
            "54/54 [==============================] - 0s 7ms/step - loss: 0.1685 - soft_acc: 0.7388\n",
            "Epoch 103/150\n",
            "54/54 [==============================] - 0s 7ms/step - loss: 0.1773 - soft_acc: 0.7218\n",
            "Epoch 104/150\n",
            "54/54 [==============================] - 0s 7ms/step - loss: 0.1789 - soft_acc: 0.7225\n",
            "Epoch 105/150\n",
            "54/54 [==============================] - 0s 7ms/step - loss: 0.1765 - soft_acc: 0.7317\n",
            "Epoch 106/150\n",
            "54/54 [==============================] - 0s 7ms/step - loss: 0.1692 - soft_acc: 0.7292\n",
            "Epoch 107/150\n",
            "54/54 [==============================] - 0s 7ms/step - loss: 0.1676 - soft_acc: 0.7442\n",
            "Epoch 108/150\n",
            "54/54 [==============================] - 0s 7ms/step - loss: 0.1634 - soft_acc: 0.7437\n",
            "Epoch 109/150\n",
            "54/54 [==============================] - 0s 7ms/step - loss: 0.1628 - soft_acc: 0.7371\n",
            "Epoch 110/150\n",
            "54/54 [==============================] - 0s 7ms/step - loss: 0.1608 - soft_acc: 0.7477\n",
            "Epoch 111/150\n",
            "54/54 [==============================] - 0s 7ms/step - loss: 0.1616 - soft_acc: 0.7480\n",
            "Epoch 112/150\n",
            "54/54 [==============================] - 0s 7ms/step - loss: 0.1636 - soft_acc: 0.7418\n",
            "Epoch 113/150\n",
            "54/54 [==============================] - 0s 7ms/step - loss: 0.1651 - soft_acc: 0.7359\n",
            "Epoch 114/150\n",
            "54/54 [==============================] - 0s 7ms/step - loss: 0.1695 - soft_acc: 0.7445\n",
            "Epoch 115/150\n",
            "54/54 [==============================] - 0s 7ms/step - loss: 0.1801 - soft_acc: 0.7191\n",
            "Epoch 116/150\n",
            "54/54 [==============================] - 0s 7ms/step - loss: 0.1865 - soft_acc: 0.7040\n",
            "Epoch 117/150\n",
            "54/54 [==============================] - 0s 7ms/step - loss: 0.1771 - soft_acc: 0.7289\n",
            "Epoch 118/150\n",
            "54/54 [==============================] - 0s 7ms/step - loss: 0.1740 - soft_acc: 0.7248\n",
            "Epoch 119/150\n",
            "54/54 [==============================] - 0s 7ms/step - loss: 0.1680 - soft_acc: 0.7161\n",
            "Epoch 120/150\n",
            "54/54 [==============================] - 0s 7ms/step - loss: 0.1715 - soft_acc: 0.7287\n",
            "Epoch 121/150\n",
            "54/54 [==============================] - 0s 7ms/step - loss: 0.1733 - soft_acc: 0.7302\n",
            "Epoch 122/150\n",
            "54/54 [==============================] - 0s 7ms/step - loss: 0.1720 - soft_acc: 0.7317\n",
            "Epoch 123/150\n",
            "54/54 [==============================] - 0s 7ms/step - loss: 0.1642 - soft_acc: 0.7311\n",
            "Epoch 124/150\n",
            "54/54 [==============================] - 0s 7ms/step - loss: 0.1760 - soft_acc: 0.7094\n",
            "Epoch 125/150\n",
            "54/54 [==============================] - 0s 7ms/step - loss: 0.1868 - soft_acc: 0.7146\n",
            "Epoch 126/150\n",
            "54/54 [==============================] - 0s 7ms/step - loss: 0.1828 - soft_acc: 0.7043\n",
            "Epoch 127/150\n",
            "54/54 [==============================] - 0s 7ms/step - loss: 0.1844 - soft_acc: 0.7124\n",
            "Epoch 128/150\n",
            "54/54 [==============================] - 0s 7ms/step - loss: 0.1808 - soft_acc: 0.7110\n",
            "Epoch 129/150\n",
            "54/54 [==============================] - 0s 7ms/step - loss: 0.1770 - soft_acc: 0.7141\n",
            "Epoch 130/150\n",
            "54/54 [==============================] - 0s 7ms/step - loss: 0.1743 - soft_acc: 0.7161\n",
            "Epoch 131/150\n",
            "54/54 [==============================] - 0s 7ms/step - loss: 0.1684 - soft_acc: 0.7334\n",
            "Epoch 132/150\n",
            "54/54 [==============================] - 0s 7ms/step - loss: 0.1654 - soft_acc: 0.7275\n",
            "Epoch 133/150\n",
            "54/54 [==============================] - 0s 7ms/step - loss: 0.1715 - soft_acc: 0.7211\n",
            "Epoch 134/150\n",
            "54/54 [==============================] - 0s 7ms/step - loss: 0.1812 - soft_acc: 0.7193\n",
            "Epoch 135/150\n",
            "54/54 [==============================] - 0s 7ms/step - loss: 0.1853 - soft_acc: 0.7139\n",
            "Epoch 136/150\n",
            "54/54 [==============================] - 0s 7ms/step - loss: 0.2057 - soft_acc: 0.6845\n",
            "Epoch 137/150\n",
            "54/54 [==============================] - 0s 7ms/step - loss: 0.2058 - soft_acc: 0.6912\n",
            "Epoch 138/150\n",
            "54/54 [==============================] - 0s 7ms/step - loss: 0.1990 - soft_acc: 0.7016\n",
            "Epoch 139/150\n",
            "54/54 [==============================] - 0s 7ms/step - loss: 0.1906 - soft_acc: 0.7060\n",
            "Epoch 140/150\n",
            "54/54 [==============================] - 0s 7ms/step - loss: 0.1916 - soft_acc: 0.7136\n",
            "Epoch 141/150\n",
            "54/54 [==============================] - 0s 7ms/step - loss: 0.1886 - soft_acc: 0.6968\n",
            "Epoch 142/150\n",
            "54/54 [==============================] - 0s 7ms/step - loss: 0.1823 - soft_acc: 0.6959\n",
            "Epoch 143/150\n",
            "54/54 [==============================] - 0s 7ms/step - loss: 0.1873 - soft_acc: 0.7139\n",
            "Epoch 144/150\n",
            "54/54 [==============================] - 0s 7ms/step - loss: 0.1922 - soft_acc: 0.7146\n",
            "Epoch 145/150\n",
            "54/54 [==============================] - 0s 7ms/step - loss: 0.1844 - soft_acc: 0.7159\n",
            "Epoch 146/150\n",
            "54/54 [==============================] - 0s 7ms/step - loss: 0.1799 - soft_acc: 0.7245\n",
            "Epoch 147/150\n",
            "54/54 [==============================] - 0s 7ms/step - loss: 0.1685 - soft_acc: 0.7124\n",
            "Epoch 148/150\n",
            "54/54 [==============================] - 0s 7ms/step - loss: 0.1701 - soft_acc: 0.7211\n",
            "Epoch 149/150\n",
            "54/54 [==============================] - 0s 7ms/step - loss: 0.1733 - soft_acc: 0.7248\n",
            "Epoch 150/150\n",
            "54/54 [==============================] - 0s 7ms/step - loss: 0.1738 - soft_acc: 0.7156\n"
          ],
          "name": "stdout"
        },
        {
          "output_type": "execute_result",
          "data": {
            "text/plain": [
              "<tensorflow.python.keras.callbacks.History at 0x7fcdc2cf7080>"
            ]
          },
          "metadata": {
            "tags": []
          },
          "execution_count": 373
        }
      ]
    },
    {
      "cell_type": "code",
      "metadata": {
        "colab": {
          "base_uri": "https://localhost:8080/"
        },
        "id": "ehFSSj2AXSCA",
        "outputId": "98522135-9272-4c02-c8ce-3cd64fd36d43"
      },
      "source": [
        "accuracy = model_2.evaluate(X_train, y_train)\r\n",
        "print(f'Accuracy for training (Percentage): {100 * accuracy[1]}')"
      ],
      "execution_count": 359,
      "outputs": [
        {
          "output_type": "stream",
          "text": [
            "42/42 [==============================] - 0s 4ms/step - loss: 0.1533 - soft_acc: 0.7403\n",
            "Accuracy for training (Percentage): 74.03273582458496\n"
          ],
          "name": "stdout"
        }
      ]
    },
    {
      "cell_type": "code",
      "metadata": {
        "colab": {
          "base_uri": "https://localhost:8080/"
        },
        "id": "5K-Dml9cXWQa",
        "outputId": "cccabb25-d943-456a-a386-59c450205b0a"
      },
      "source": [
        "accuracy = model_2.evaluate(X_test, y_test)\r\n",
        "print(f'Accuracy for testing (percentage): {100 * accuracy[1]}')"
      ],
      "execution_count": 360,
      "outputs": [
        {
          "output_type": "stream",
          "text": [
            "15/15 [==============================] - 0s 4ms/step - loss: 1.2662 - soft_acc: 0.2958\n",
            "Accuracy for testing (percentage): 29.58333194255829\n"
          ],
          "name": "stdout"
        }
      ]
    },
    {
      "cell_type": "code",
      "metadata": {
        "id": "8LX3Od5-epyU"
      },
      "source": [
        "# Function that creates and returns our NN structure.\r\n",
        "def build_model_4():\r\n",
        "    # Let's try this rule of thumb.\r\n",
        "    num_of_hidden_neurons = round(X.shape[1] / 3) + 1\r\n",
        "    num_of_inputs = X.shape[0]\r\n",
        "\r\n",
        "    model = Sequential()\r\n",
        "    model.add(Dense(num_of_hidden_neurons, input_dim=X.shape[1]))  \r\n",
        "    model.add(Dense(num_of_hidden_neurons, input_dim=X.shape[1]))\r\n",
        "    model.add(Dense(1))\r\n",
        "    model.compile(loss='mean_squared_error', optimizer='adam', metrics=[soft_acc])\r\n",
        "    return model"
      ],
      "execution_count": 363,
      "outputs": []
    },
    {
      "cell_type": "markdown",
      "metadata": {
        "id": "gK4uvU9ogUHp"
      },
      "source": [
        "### Running NN with no activation functions\r\n",
        "\r\n",
        "Interestingly enough (and rather expected), when we run the model with no activation functions being used, it is pretty much as if we were running with linear regression. Though the training score appears rather high, the testing score is extremely low comparatively. This is indicating that we are overfitting, which makes a lot of sense since the activation function is what really allows a NN to handle polynomial (non-linear) data."
      ]
    },
    {
      "cell_type": "code",
      "metadata": {
        "colab": {
          "base_uri": "https://localhost:8080/"
        },
        "id": "6iqcmeW8ewvg",
        "outputId": "97c0d920-6887-4a4e-e150-8db560d4da2b"
      },
      "source": [
        "model_2 = build_model_2()\r\n",
        "model_2.fit(X_train, y_train, epochs=epochs, batch_size=batch_size)"
      ],
      "execution_count": 375,
      "outputs": [
        {
          "output_type": "stream",
          "text": [
            "551\n",
            "1793\n",
            "Epoch 1/150\n",
            "54/54 [==============================] - 0s 7ms/step - loss: 3.2882 - soft_acc: 0.3189\n",
            "Epoch 2/150\n",
            "54/54 [==============================] - 0s 7ms/step - loss: 1.0195 - soft_acc: 0.3483\n",
            "Epoch 3/150\n",
            "54/54 [==============================] - 0s 7ms/step - loss: 1.0284 - soft_acc: 0.3496\n",
            "Epoch 4/150\n",
            "54/54 [==============================] - 0s 7ms/step - loss: 1.0147 - soft_acc: 0.3503\n",
            "Epoch 5/150\n",
            "54/54 [==============================] - 0s 7ms/step - loss: 1.0147 - soft_acc: 0.3503\n",
            "Epoch 6/150\n",
            "54/54 [==============================] - 0s 7ms/step - loss: 1.0147 - soft_acc: 0.3501\n",
            "Epoch 7/150\n",
            "54/54 [==============================] - 0s 7ms/step - loss: 1.0147 - soft_acc: 0.3505\n",
            "Epoch 8/150\n",
            "54/54 [==============================] - 0s 7ms/step - loss: 1.0147 - soft_acc: 0.3503\n",
            "Epoch 9/150\n",
            "54/54 [==============================] - 0s 7ms/step - loss: 1.0147 - soft_acc: 0.3508\n",
            "Epoch 10/150\n",
            "54/54 [==============================] - 0s 7ms/step - loss: 1.0147 - soft_acc: 0.3494\n",
            "Epoch 11/150\n",
            "54/54 [==============================] - 0s 7ms/step - loss: 1.0147 - soft_acc: 0.3512\n",
            "Epoch 12/150\n",
            "54/54 [==============================] - 0s 7ms/step - loss: 1.0147 - soft_acc: 0.3501\n",
            "Epoch 13/150\n",
            "54/54 [==============================] - 0s 7ms/step - loss: 1.0147 - soft_acc: 0.3501\n",
            "Epoch 14/150\n",
            "54/54 [==============================] - 0s 7ms/step - loss: 1.0147 - soft_acc: 0.3501\n",
            "Epoch 15/150\n",
            "54/54 [==============================] - 0s 7ms/step - loss: 1.0147 - soft_acc: 0.3501\n",
            "Epoch 16/150\n",
            "54/54 [==============================] - 0s 7ms/step - loss: 1.0147 - soft_acc: 0.3496\n",
            "Epoch 17/150\n",
            "54/54 [==============================] - 0s 7ms/step - loss: 1.0147 - soft_acc: 0.3505\n",
            "Epoch 18/150\n",
            "54/54 [==============================] - 0s 7ms/step - loss: 1.0147 - soft_acc: 0.3501\n",
            "Epoch 19/150\n",
            "54/54 [==============================] - 0s 7ms/step - loss: 1.0147 - soft_acc: 0.3508\n",
            "Epoch 20/150\n",
            "54/54 [==============================] - 0s 7ms/step - loss: 1.0147 - soft_acc: 0.3508\n",
            "Epoch 21/150\n",
            "54/54 [==============================] - 0s 7ms/step - loss: 1.0147 - soft_acc: 0.3505\n",
            "Epoch 22/150\n",
            "54/54 [==============================] - 0s 7ms/step - loss: 1.0147 - soft_acc: 0.3505\n",
            "Epoch 23/150\n",
            "54/54 [==============================] - 0s 7ms/step - loss: 1.0147 - soft_acc: 0.3508\n",
            "Epoch 24/150\n",
            "54/54 [==============================] - 0s 7ms/step - loss: 1.0147 - soft_acc: 0.3505\n",
            "Epoch 25/150\n",
            "54/54 [==============================] - 0s 7ms/step - loss: 1.0147 - soft_acc: 0.3508\n",
            "Epoch 26/150\n",
            "54/54 [==============================] - 0s 8ms/step - loss: 1.0147 - soft_acc: 0.3508\n",
            "Epoch 27/150\n",
            "54/54 [==============================] - 0s 7ms/step - loss: 1.0147 - soft_acc: 0.3505\n",
            "Epoch 28/150\n",
            "54/54 [==============================] - 0s 7ms/step - loss: 1.0147 - soft_acc: 0.3501\n",
            "Epoch 29/150\n",
            "54/54 [==============================] - 0s 7ms/step - loss: 1.0147 - soft_acc: 0.3508\n",
            "Epoch 30/150\n",
            "54/54 [==============================] - 0s 7ms/step - loss: 1.0147 - soft_acc: 0.3503\n",
            "Epoch 31/150\n",
            "54/54 [==============================] - 0s 7ms/step - loss: 1.0147 - soft_acc: 0.3510\n",
            "Epoch 32/150\n",
            "54/54 [==============================] - 0s 7ms/step - loss: 1.0147 - soft_acc: 0.3498\n",
            "Epoch 33/150\n",
            "54/54 [==============================] - 0s 7ms/step - loss: 1.0147 - soft_acc: 0.3505\n",
            "Epoch 34/150\n",
            "54/54 [==============================] - 0s 7ms/step - loss: 1.0147 - soft_acc: 0.3512\n",
            "Epoch 35/150\n",
            "54/54 [==============================] - 0s 7ms/step - loss: 1.0147 - soft_acc: 0.3512\n",
            "Epoch 36/150\n",
            "54/54 [==============================] - 0s 7ms/step - loss: 1.0147 - soft_acc: 0.3503\n",
            "Epoch 37/150\n",
            "54/54 [==============================] - 0s 7ms/step - loss: 1.0147 - soft_acc: 0.3505\n",
            "Epoch 38/150\n",
            "54/54 [==============================] - 0s 7ms/step - loss: 1.0147 - soft_acc: 0.3508\n",
            "Epoch 39/150\n",
            "54/54 [==============================] - 0s 7ms/step - loss: 1.0147 - soft_acc: 0.3503\n",
            "Epoch 40/150\n",
            "54/54 [==============================] - 0s 7ms/step - loss: 1.0147 - soft_acc: 0.3503\n",
            "Epoch 41/150\n",
            "54/54 [==============================] - 0s 7ms/step - loss: 1.0147 - soft_acc: 0.3503\n",
            "Epoch 42/150\n",
            "54/54 [==============================] - 0s 7ms/step - loss: 1.0147 - soft_acc: 0.3501\n",
            "Epoch 43/150\n",
            "54/54 [==============================] - 0s 7ms/step - loss: 1.0147 - soft_acc: 0.3498\n",
            "Epoch 44/150\n",
            "54/54 [==============================] - 0s 7ms/step - loss: 1.0147 - soft_acc: 0.3503\n",
            "Epoch 45/150\n",
            "54/54 [==============================] - 0s 7ms/step - loss: 1.0147 - soft_acc: 0.3510\n",
            "Epoch 46/150\n",
            "54/54 [==============================] - 0s 7ms/step - loss: 1.0147 - soft_acc: 0.3510\n",
            "Epoch 47/150\n",
            "54/54 [==============================] - 0s 7ms/step - loss: 1.0147 - soft_acc: 0.3508\n",
            "Epoch 48/150\n",
            "54/54 [==============================] - 0s 7ms/step - loss: 1.0147 - soft_acc: 0.3505\n",
            "Epoch 49/150\n",
            "54/54 [==============================] - 0s 7ms/step - loss: 1.0147 - soft_acc: 0.3510\n",
            "Epoch 50/150\n",
            "54/54 [==============================] - 0s 7ms/step - loss: 1.0147 - soft_acc: 0.3503\n",
            "Epoch 51/150\n",
            "54/54 [==============================] - 0s 7ms/step - loss: 1.0147 - soft_acc: 0.3508\n",
            "Epoch 52/150\n",
            "54/54 [==============================] - 0s 7ms/step - loss: 1.0147 - soft_acc: 0.3510\n",
            "Epoch 53/150\n",
            "54/54 [==============================] - 0s 7ms/step - loss: 1.0147 - soft_acc: 0.3501\n",
            "Epoch 54/150\n",
            "54/54 [==============================] - 0s 7ms/step - loss: 1.0147 - soft_acc: 0.3505\n",
            "Epoch 55/150\n",
            "54/54 [==============================] - 0s 7ms/step - loss: 1.0147 - soft_acc: 0.3496\n",
            "Epoch 56/150\n",
            "54/54 [==============================] - 0s 7ms/step - loss: 1.0147 - soft_acc: 0.3501\n",
            "Epoch 57/150\n",
            "54/54 [==============================] - 0s 7ms/step - loss: 1.0147 - soft_acc: 0.3503\n",
            "Epoch 58/150\n",
            "54/54 [==============================] - 0s 7ms/step - loss: 1.0147 - soft_acc: 0.3501\n",
            "Epoch 59/150\n",
            "54/54 [==============================] - 0s 7ms/step - loss: 1.0147 - soft_acc: 0.3498\n",
            "Epoch 60/150\n",
            "54/54 [==============================] - 0s 7ms/step - loss: 1.0147 - soft_acc: 0.3505\n",
            "Epoch 61/150\n",
            "54/54 [==============================] - 0s 7ms/step - loss: 1.0147 - soft_acc: 0.3510\n",
            "Epoch 62/150\n",
            "54/54 [==============================] - 0s 7ms/step - loss: 1.0147 - soft_acc: 0.3498\n",
            "Epoch 63/150\n",
            "54/54 [==============================] - 0s 7ms/step - loss: 1.0147 - soft_acc: 0.3503\n",
            "Epoch 64/150\n",
            "54/54 [==============================] - 0s 7ms/step - loss: 1.0147 - soft_acc: 0.3508\n",
            "Epoch 65/150\n",
            "54/54 [==============================] - 0s 7ms/step - loss: 1.0147 - soft_acc: 0.3505\n",
            "Epoch 66/150\n",
            "54/54 [==============================] - 0s 7ms/step - loss: 1.0147 - soft_acc: 0.3498\n",
            "Epoch 67/150\n",
            "54/54 [==============================] - 0s 7ms/step - loss: 1.0147 - soft_acc: 0.3503\n",
            "Epoch 68/150\n",
            "54/54 [==============================] - 0s 7ms/step - loss: 1.0147 - soft_acc: 0.3505\n",
            "Epoch 69/150\n",
            "54/54 [==============================] - 0s 7ms/step - loss: 1.0147 - soft_acc: 0.3503\n",
            "Epoch 70/150\n",
            "54/54 [==============================] - 0s 7ms/step - loss: 1.0147 - soft_acc: 0.3503\n",
            "Epoch 71/150\n",
            "54/54 [==============================] - 0s 7ms/step - loss: 1.0147 - soft_acc: 0.3498\n",
            "Epoch 72/150\n",
            "54/54 [==============================] - 0s 8ms/step - loss: 1.0147 - soft_acc: 0.3505\n",
            "Epoch 73/150\n",
            "54/54 [==============================] - 0s 7ms/step - loss: 1.0147 - soft_acc: 0.3498\n",
            "Epoch 74/150\n",
            "54/54 [==============================] - 0s 7ms/step - loss: 1.0147 - soft_acc: 0.3501\n",
            "Epoch 75/150\n",
            "54/54 [==============================] - 0s 7ms/step - loss: 1.0147 - soft_acc: 0.3510\n",
            "Epoch 76/150\n",
            "54/54 [==============================] - 0s 7ms/step - loss: 1.0147 - soft_acc: 0.3508\n",
            "Epoch 77/150\n",
            "54/54 [==============================] - 0s 7ms/step - loss: 1.0147 - soft_acc: 0.3503\n",
            "Epoch 78/150\n",
            "54/54 [==============================] - 0s 7ms/step - loss: 1.0147 - soft_acc: 0.3508\n",
            "Epoch 79/150\n",
            "54/54 [==============================] - 0s 7ms/step - loss: 1.0147 - soft_acc: 0.3503\n",
            "Epoch 80/150\n",
            "54/54 [==============================] - 0s 7ms/step - loss: 1.0147 - soft_acc: 0.3512\n",
            "Epoch 81/150\n",
            "54/54 [==============================] - 0s 7ms/step - loss: 1.0147 - soft_acc: 0.3508\n",
            "Epoch 82/150\n",
            "54/54 [==============================] - 0s 7ms/step - loss: 1.0147 - soft_acc: 0.3503\n",
            "Epoch 83/150\n",
            "54/54 [==============================] - 0s 7ms/step - loss: 1.0147 - soft_acc: 0.3498\n",
            "Epoch 84/150\n",
            "54/54 [==============================] - 0s 7ms/step - loss: 1.0147 - soft_acc: 0.3498\n",
            "Epoch 85/150\n",
            "54/54 [==============================] - 0s 7ms/step - loss: 1.0147 - soft_acc: 0.3494\n",
            "Epoch 86/150\n",
            "54/54 [==============================] - 0s 7ms/step - loss: 1.0147 - soft_acc: 0.3505\n",
            "Epoch 87/150\n",
            "54/54 [==============================] - 0s 8ms/step - loss: 1.0147 - soft_acc: 0.3498\n",
            "Epoch 88/150\n",
            "54/54 [==============================] - 0s 7ms/step - loss: 1.0147 - soft_acc: 0.3496\n",
            "Epoch 89/150\n",
            "54/54 [==============================] - 0s 8ms/step - loss: 1.0147 - soft_acc: 0.3508\n",
            "Epoch 90/150\n",
            "54/54 [==============================] - 0s 7ms/step - loss: 1.0147 - soft_acc: 0.3512\n",
            "Epoch 91/150\n",
            "54/54 [==============================] - 0s 7ms/step - loss: 1.0147 - soft_acc: 0.3508\n",
            "Epoch 92/150\n",
            "54/54 [==============================] - 0s 7ms/step - loss: 1.0147 - soft_acc: 0.3505\n",
            "Epoch 93/150\n",
            "54/54 [==============================] - 0s 7ms/step - loss: 1.0147 - soft_acc: 0.3503\n",
            "Epoch 94/150\n",
            "54/54 [==============================] - 0s 7ms/step - loss: 1.0147 - soft_acc: 0.3503\n",
            "Epoch 95/150\n",
            "54/54 [==============================] - 0s 7ms/step - loss: 1.0147 - soft_acc: 0.3510\n",
            "Epoch 96/150\n",
            "54/54 [==============================] - 0s 7ms/step - loss: 1.0147 - soft_acc: 0.3505\n",
            "Epoch 97/150\n",
            "54/54 [==============================] - 0s 7ms/step - loss: 1.0147 - soft_acc: 0.3494\n",
            "Epoch 98/150\n",
            "54/54 [==============================] - 0s 7ms/step - loss: 1.0147 - soft_acc: 0.3498\n",
            "Epoch 99/150\n",
            "54/54 [==============================] - 0s 7ms/step - loss: 1.0147 - soft_acc: 0.3501\n",
            "Epoch 100/150\n",
            "54/54 [==============================] - 0s 7ms/step - loss: 1.0147 - soft_acc: 0.3505\n",
            "Epoch 101/150\n",
            "54/54 [==============================] - 0s 7ms/step - loss: 1.0147 - soft_acc: 0.3505\n",
            "Epoch 102/150\n",
            "54/54 [==============================] - 0s 7ms/step - loss: 1.0147 - soft_acc: 0.3505\n",
            "Epoch 103/150\n",
            "54/54 [==============================] - 0s 7ms/step - loss: 1.0147 - soft_acc: 0.3508\n",
            "Epoch 104/150\n",
            "54/54 [==============================] - 0s 7ms/step - loss: 1.0147 - soft_acc: 0.3503\n",
            "Epoch 105/150\n",
            "54/54 [==============================] - 0s 7ms/step - loss: 1.0147 - soft_acc: 0.3503\n",
            "Epoch 106/150\n",
            "54/54 [==============================] - 0s 7ms/step - loss: 1.0147 - soft_acc: 0.3508\n",
            "Epoch 107/150\n",
            "54/54 [==============================] - 0s 7ms/step - loss: 1.0147 - soft_acc: 0.3505\n",
            "Epoch 108/150\n",
            "54/54 [==============================] - 0s 7ms/step - loss: 1.0147 - soft_acc: 0.3503\n",
            "Epoch 109/150\n",
            "54/54 [==============================] - 0s 7ms/step - loss: 1.0147 - soft_acc: 0.3501\n",
            "Epoch 110/150\n",
            "54/54 [==============================] - 0s 7ms/step - loss: 1.0147 - soft_acc: 0.3503\n",
            "Epoch 111/150\n",
            "54/54 [==============================] - 0s 7ms/step - loss: 1.0147 - soft_acc: 0.3508\n",
            "Epoch 112/150\n",
            "54/54 [==============================] - 0s 7ms/step - loss: 1.0147 - soft_acc: 0.3505\n",
            "Epoch 113/150\n",
            "54/54 [==============================] - 0s 7ms/step - loss: 1.0147 - soft_acc: 0.3510\n",
            "Epoch 114/150\n",
            "54/54 [==============================] - 0s 7ms/step - loss: 1.0147 - soft_acc: 0.3510\n",
            "Epoch 115/150\n",
            "54/54 [==============================] - 0s 7ms/step - loss: 1.0147 - soft_acc: 0.3496\n",
            "Epoch 116/150\n",
            "54/54 [==============================] - 0s 7ms/step - loss: 1.0147 - soft_acc: 0.3503\n",
            "Epoch 117/150\n",
            "54/54 [==============================] - 0s 7ms/step - loss: 1.0147 - soft_acc: 0.3505\n",
            "Epoch 118/150\n",
            "54/54 [==============================] - 0s 8ms/step - loss: 1.0147 - soft_acc: 0.3510\n",
            "Epoch 119/150\n",
            "54/54 [==============================] - 0s 7ms/step - loss: 1.0147 - soft_acc: 0.3510\n",
            "Epoch 120/150\n",
            "54/54 [==============================] - 0s 8ms/step - loss: 1.0147 - soft_acc: 0.3501\n",
            "Epoch 121/150\n",
            "54/54 [==============================] - 0s 8ms/step - loss: 1.0147 - soft_acc: 0.3501\n",
            "Epoch 122/150\n",
            "54/54 [==============================] - 0s 7ms/step - loss: 1.0147 - soft_acc: 0.3508\n",
            "Epoch 123/150\n",
            "54/54 [==============================] - 0s 8ms/step - loss: 1.0147 - soft_acc: 0.3501\n",
            "Epoch 124/150\n",
            "54/54 [==============================] - 0s 8ms/step - loss: 1.0147 - soft_acc: 0.3519\n",
            "Epoch 125/150\n",
            "54/54 [==============================] - 0s 7ms/step - loss: 1.0147 - soft_acc: 0.3510\n",
            "Epoch 126/150\n",
            "54/54 [==============================] - 0s 8ms/step - loss: 1.0147 - soft_acc: 0.3501\n",
            "Epoch 127/150\n",
            "54/54 [==============================] - 0s 8ms/step - loss: 1.0147 - soft_acc: 0.3498\n",
            "Epoch 128/150\n",
            "54/54 [==============================] - 0s 8ms/step - loss: 1.0147 - soft_acc: 0.3515\n",
            "Epoch 129/150\n",
            "54/54 [==============================] - 0s 8ms/step - loss: 1.0147 - soft_acc: 0.3505\n",
            "Epoch 130/150\n",
            "54/54 [==============================] - 0s 7ms/step - loss: 1.0147 - soft_acc: 0.3510\n",
            "Epoch 131/150\n",
            "54/54 [==============================] - 0s 7ms/step - loss: 1.0147 - soft_acc: 0.3508\n",
            "Epoch 132/150\n",
            "54/54 [==============================] - 0s 8ms/step - loss: 1.0147 - soft_acc: 0.3501\n",
            "Epoch 133/150\n",
            "54/54 [==============================] - 0s 8ms/step - loss: 1.0147 - soft_acc: 0.3505\n",
            "Epoch 134/150\n",
            "54/54 [==============================] - 0s 8ms/step - loss: 1.0147 - soft_acc: 0.3512\n",
            "Epoch 135/150\n",
            "54/54 [==============================] - 0s 8ms/step - loss: 1.0147 - soft_acc: 0.3508\n",
            "Epoch 136/150\n",
            "54/54 [==============================] - 0s 7ms/step - loss: 1.0147 - soft_acc: 0.3503\n",
            "Epoch 137/150\n",
            "54/54 [==============================] - 0s 8ms/step - loss: 1.0147 - soft_acc: 0.3505\n",
            "Epoch 138/150\n",
            "54/54 [==============================] - 0s 7ms/step - loss: 1.0147 - soft_acc: 0.3505\n",
            "Epoch 139/150\n",
            "54/54 [==============================] - 0s 8ms/step - loss: 1.0147 - soft_acc: 0.3503\n",
            "Epoch 140/150\n",
            "54/54 [==============================] - 0s 8ms/step - loss: 1.0147 - soft_acc: 0.3512\n",
            "Epoch 141/150\n",
            "54/54 [==============================] - 0s 7ms/step - loss: 1.0147 - soft_acc: 0.3512\n",
            "Epoch 142/150\n",
            "54/54 [==============================] - 0s 7ms/step - loss: 1.0147 - soft_acc: 0.3505\n",
            "Epoch 143/150\n",
            "54/54 [==============================] - 0s 7ms/step - loss: 1.0147 - soft_acc: 0.3503\n",
            "Epoch 144/150\n",
            "54/54 [==============================] - 0s 8ms/step - loss: 1.0147 - soft_acc: 0.3510\n",
            "Epoch 145/150\n",
            "54/54 [==============================] - 0s 7ms/step - loss: 1.0147 - soft_acc: 0.3510\n",
            "Epoch 146/150\n",
            "54/54 [==============================] - 0s 7ms/step - loss: 1.0147 - soft_acc: 0.3510\n",
            "Epoch 147/150\n",
            "54/54 [==============================] - 0s 8ms/step - loss: 1.0147 - soft_acc: 0.3510\n",
            "Epoch 148/150\n",
            "54/54 [==============================] - 0s 8ms/step - loss: 1.0147 - soft_acc: 0.3501\n",
            "Epoch 149/150\n",
            "54/54 [==============================] - 0s 8ms/step - loss: 1.0147 - soft_acc: 0.3508\n",
            "Epoch 150/150\n",
            "54/54 [==============================] - 0s 7ms/step - loss: 1.0147 - soft_acc: 0.3501\n"
          ],
          "name": "stdout"
        },
        {
          "output_type": "execute_result",
          "data": {
            "text/plain": [
              "<tensorflow.python.keras.callbacks.History at 0x7fcdab532780>"
            ]
          },
          "metadata": {
            "tags": []
          },
          "execution_count": 375
        }
      ]
    },
    {
      "cell_type": "code",
      "metadata": {
        "colab": {
          "base_uri": "https://localhost:8080/"
        },
        "id": "Ql0LZD0peztd",
        "outputId": "50de1696-1ff1-41de-cf98-f144f93ce2ff"
      },
      "source": [
        "accuracy = model_2.evaluate(X_train, y_train)\r\n",
        "print(f'Accuracy for training (Percentage): {100 * accuracy[1]}')"
      ],
      "execution_count": 369,
      "outputs": [
        {
          "output_type": "stream",
          "text": [
            "42/42 [==============================] - 0s 4ms/step - loss: 0.1778 - soft_acc: 0.7068\n",
            "Accuracy for training (Percentage): 70.6845223903656\n"
          ],
          "name": "stdout"
        }
      ]
    },
    {
      "cell_type": "code",
      "metadata": {
        "colab": {
          "base_uri": "https://localhost:8080/"
        },
        "id": "Osdt0mC2e0Sr",
        "outputId": "0360ad1f-52cf-4a14-ae84-1100d7aa24a7"
      },
      "source": [
        "accuracy = model_2.evaluate(X_test, y_test)\r\n",
        "print(f'Accuracy for testing (Percentage): {100 * accuracy[1]}')"
      ],
      "execution_count": 370,
      "outputs": [
        {
          "output_type": "stream",
          "text": [
            "15/15 [==============================] - 0s 4ms/step - loss: 1.0579 - soft_acc: 0.4250\n",
            "Accuracy for testing (Percentage): 42.500001192092896\n"
          ],
          "name": "stdout"
        }
      ]
    },
    {
      "cell_type": "markdown",
      "metadata": {
        "id": "Zjuwlmy6hHF6"
      },
      "source": [
        "### Moving Forward\r\n",
        "\r\n",
        "The only other thing I am interesting in testing out is running this model with drop out and seeing how that goes...."
      ]
    }
  ]
}